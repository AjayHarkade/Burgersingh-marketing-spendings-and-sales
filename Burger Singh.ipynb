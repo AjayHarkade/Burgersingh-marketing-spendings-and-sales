{
 "cells": [
  {
   "cell_type": "code",
   "execution_count": 1,
   "id": "df98395e",
   "metadata": {},
   "outputs": [
    {
     "name": "stderr",
     "output_type": "stream",
     "text": [
      "C:\\Users\\ajayh\\AppData\\Local\\Temp\\ipykernel_18040\\1591338587.py:5: DeprecationWarning: `import pandas_profiling` is going to be deprecated by April 1st. Please use `import ydata_profiling` instead.\n",
      "  from pandas_profiling import ProfileReport\n"
     ]
    }
   ],
   "source": [
    "# Importing neccessary libraries\n",
    "import pandas as pd\n",
    "import numpy as np\n",
    "import matplotlib.pyplot as plt\n",
    "from pandas_profiling import ProfileReport\n",
    "import seaborn as sns"
   ]
  },
  {
   "cell_type": "code",
   "execution_count": 2,
   "id": "f69569ef",
   "metadata": {},
   "outputs": [],
   "source": [
    "# Importing the dataset\n",
    "df=pd.read_csv(r\"C:\\Users\\ajayh\\OneDrive\\Desktop\\Project\\Burger_Sales.csv\")"
   ]
  },
  {
   "cell_type": "code",
   "execution_count": 3,
   "id": "d56abcd3",
   "metadata": {},
   "outputs": [
    {
     "data": {
      "text/plain": [
       "Index(['Date', 'burger_sales', 'Instagram_Cost', 'Bing_Cost', 'Facebook_Cost',\n",
       "       'Google_Cost', 'Pinterest_Cost', 'Tiktok Cost'],\n",
       "      dtype='object')"
      ]
     },
     "execution_count": 3,
     "metadata": {},
     "output_type": "execute_result"
    }
   ],
   "source": [
    "df.columns"
   ]
  },
  {
   "cell_type": "code",
   "execution_count": 4,
   "id": "73731786",
   "metadata": {
    "scrolled": true
   },
   "outputs": [
    {
     "data": {
      "text/html": [
       "<div>\n",
       "<style scoped>\n",
       "    .dataframe tbody tr th:only-of-type {\n",
       "        vertical-align: middle;\n",
       "    }\n",
       "\n",
       "    .dataframe tbody tr th {\n",
       "        vertical-align: top;\n",
       "    }\n",
       "\n",
       "    .dataframe thead th {\n",
       "        text-align: right;\n",
       "    }\n",
       "</style>\n",
       "<table border=\"1\" class=\"dataframe\">\n",
       "  <thead>\n",
       "    <tr style=\"text-align: right;\">\n",
       "      <th></th>\n",
       "      <th>Date</th>\n",
       "      <th>burger_sales</th>\n",
       "      <th>Instagram_Cost</th>\n",
       "      <th>Bing_Cost</th>\n",
       "      <th>Facebook_Cost</th>\n",
       "      <th>Google_Cost</th>\n",
       "      <th>Pinterest_Cost</th>\n",
       "      <th>Tiktok Cost</th>\n",
       "    </tr>\n",
       "  </thead>\n",
       "  <tbody>\n",
       "    <tr>\n",
       "      <th>0</th>\n",
       "      <td>2020-01-01</td>\n",
       "      <td>950</td>\n",
       "      <td>0.0</td>\n",
       "      <td>0.0</td>\n",
       "      <td>1041.1</td>\n",
       "      <td>4447.40000</td>\n",
       "      <td>0.0</td>\n",
       "      <td>0.0</td>\n",
       "    </tr>\n",
       "    <tr>\n",
       "      <th>1</th>\n",
       "      <td>2020-01-02</td>\n",
       "      <td>1340</td>\n",
       "      <td>582.5</td>\n",
       "      <td>0.0</td>\n",
       "      <td>2597.0</td>\n",
       "      <td>6561.10000</td>\n",
       "      <td>0.0</td>\n",
       "      <td>0.0</td>\n",
       "    </tr>\n",
       "    <tr>\n",
       "      <th>2</th>\n",
       "      <td>2020-01-03</td>\n",
       "      <td>1370</td>\n",
       "      <td>551.5</td>\n",
       "      <td>0.0</td>\n",
       "      <td>2580.0</td>\n",
       "      <td>6500.30000</td>\n",
       "      <td>0.0</td>\n",
       "      <td>0.0</td>\n",
       "    </tr>\n",
       "    <tr>\n",
       "      <th>3</th>\n",
       "      <td>2020-01-04</td>\n",
       "      <td>1160</td>\n",
       "      <td>0.0</td>\n",
       "      <td>0.0</td>\n",
       "      <td>2245.5</td>\n",
       "      <td>6499.60000</td>\n",
       "      <td>0.0</td>\n",
       "      <td>0.0</td>\n",
       "    </tr>\n",
       "    <tr>\n",
       "      <th>4</th>\n",
       "      <td>2020-01-05</td>\n",
       "      <td>1070</td>\n",
       "      <td>540.0</td>\n",
       "      <td>0.0</td>\n",
       "      <td>1751.1</td>\n",
       "      <td>6499.10000</td>\n",
       "      <td>0.0</td>\n",
       "      <td>0.0</td>\n",
       "    </tr>\n",
       "    <tr>\n",
       "      <th>...</th>\n",
       "      <td>...</td>\n",
       "      <td>...</td>\n",
       "      <td>...</td>\n",
       "      <td>...</td>\n",
       "      <td>...</td>\n",
       "      <td>...</td>\n",
       "      <td>...</td>\n",
       "      <td>...</td>\n",
       "    </tr>\n",
       "    <tr>\n",
       "      <th>845</th>\n",
       "      <td>2022-05-09</td>\n",
       "      <td>10630</td>\n",
       "      <td>27689.7</td>\n",
       "      <td>21901.7</td>\n",
       "      <td>47154.0</td>\n",
       "      <td>112787.84487</td>\n",
       "      <td>25793.2</td>\n",
       "      <td>20479.5</td>\n",
       "    </tr>\n",
       "    <tr>\n",
       "      <th>846</th>\n",
       "      <td>2022-05-28</td>\n",
       "      <td>10930</td>\n",
       "      <td>0.0</td>\n",
       "      <td>0.0</td>\n",
       "      <td>38461.0</td>\n",
       "      <td>64788.29081</td>\n",
       "      <td>21939.2</td>\n",
       "      <td>0.0</td>\n",
       "    </tr>\n",
       "    <tr>\n",
       "      <th>847</th>\n",
       "      <td>2022-05-29</td>\n",
       "      <td>10510</td>\n",
       "      <td>0.0</td>\n",
       "      <td>0.0</td>\n",
       "      <td>45635.0</td>\n",
       "      <td>89638.52679</td>\n",
       "      <td>21673.6</td>\n",
       "      <td>0.0</td>\n",
       "    </tr>\n",
       "    <tr>\n",
       "      <th>848</th>\n",
       "      <td>2022-05-30</td>\n",
       "      <td>13160</td>\n",
       "      <td>7424.3</td>\n",
       "      <td>0.0</td>\n",
       "      <td>91366.7</td>\n",
       "      <td>133683.23351</td>\n",
       "      <td>20171.6</td>\n",
       "      <td>0.0</td>\n",
       "    </tr>\n",
       "    <tr>\n",
       "      <th>849</th>\n",
       "      <td>2022-05-31</td>\n",
       "      <td>13270</td>\n",
       "      <td>31764.5</td>\n",
       "      <td>0.0</td>\n",
       "      <td>112900.9</td>\n",
       "      <td>100072.20142</td>\n",
       "      <td>20679.2</td>\n",
       "      <td>0.0</td>\n",
       "    </tr>\n",
       "  </tbody>\n",
       "</table>\n",
       "<p>850 rows × 8 columns</p>\n",
       "</div>"
      ],
      "text/plain": [
       "           Date  burger_sales  Instagram_Cost  Bing_Cost  Facebook_Cost  \\\n",
       "0    2020-01-01           950             0.0        0.0         1041.1   \n",
       "1    2020-01-02          1340           582.5        0.0         2597.0   \n",
       "2    2020-01-03          1370           551.5        0.0         2580.0   \n",
       "3    2020-01-04          1160             0.0        0.0         2245.5   \n",
       "4    2020-01-05          1070           540.0        0.0         1751.1   \n",
       "..          ...           ...             ...        ...            ...   \n",
       "845  2022-05-09         10630         27689.7    21901.7        47154.0   \n",
       "846  2022-05-28         10930             0.0        0.0        38461.0   \n",
       "847  2022-05-29         10510             0.0        0.0        45635.0   \n",
       "848  2022-05-30         13160          7424.3        0.0        91366.7   \n",
       "849  2022-05-31         13270         31764.5        0.0       112900.9   \n",
       "\n",
       "      Google_Cost  Pinterest_Cost  Tiktok Cost  \n",
       "0      4447.40000             0.0          0.0  \n",
       "1      6561.10000             0.0          0.0  \n",
       "2      6500.30000             0.0          0.0  \n",
       "3      6499.60000             0.0          0.0  \n",
       "4      6499.10000             0.0          0.0  \n",
       "..            ...             ...          ...  \n",
       "845  112787.84487         25793.2      20479.5  \n",
       "846   64788.29081         21939.2          0.0  \n",
       "847   89638.52679         21673.6          0.0  \n",
       "848  133683.23351         20171.6          0.0  \n",
       "849  100072.20142         20679.2          0.0  \n",
       "\n",
       "[850 rows x 8 columns]"
      ]
     },
     "execution_count": 4,
     "metadata": {},
     "output_type": "execute_result"
    }
   ],
   "source": [
    "#Overview of the data\n",
    "df"
   ]
  },
  {
   "cell_type": "code",
   "execution_count": 5,
   "id": "1c736648",
   "metadata": {},
   "outputs": [
    {
     "data": {
      "text/html": [
       "<div>\n",
       "<style scoped>\n",
       "    .dataframe tbody tr th:only-of-type {\n",
       "        vertical-align: middle;\n",
       "    }\n",
       "\n",
       "    .dataframe tbody tr th {\n",
       "        vertical-align: top;\n",
       "    }\n",
       "\n",
       "    .dataframe thead th {\n",
       "        text-align: right;\n",
       "    }\n",
       "</style>\n",
       "<table border=\"1\" class=\"dataframe\">\n",
       "  <thead>\n",
       "    <tr style=\"text-align: right;\">\n",
       "      <th></th>\n",
       "      <th>Date</th>\n",
       "      <th>burger_sales</th>\n",
       "      <th>Instagram_Cost</th>\n",
       "      <th>Bing_Cost</th>\n",
       "      <th>Facebook_Cost</th>\n",
       "      <th>Google_Cost</th>\n",
       "      <th>Pinterest_Cost</th>\n",
       "      <th>Tiktok Cost</th>\n",
       "    </tr>\n",
       "  </thead>\n",
       "  <tbody>\n",
       "    <tr>\n",
       "      <th>0</th>\n",
       "      <td>2020-01-01</td>\n",
       "      <td>950</td>\n",
       "      <td>0.0</td>\n",
       "      <td>0.0</td>\n",
       "      <td>1041.1</td>\n",
       "      <td>4447.4</td>\n",
       "      <td>0.0</td>\n",
       "      <td>0.0</td>\n",
       "    </tr>\n",
       "    <tr>\n",
       "      <th>1</th>\n",
       "      <td>2020-01-02</td>\n",
       "      <td>1340</td>\n",
       "      <td>582.5</td>\n",
       "      <td>0.0</td>\n",
       "      <td>2597.0</td>\n",
       "      <td>6561.1</td>\n",
       "      <td>0.0</td>\n",
       "      <td>0.0</td>\n",
       "    </tr>\n",
       "    <tr>\n",
       "      <th>2</th>\n",
       "      <td>2020-01-03</td>\n",
       "      <td>1370</td>\n",
       "      <td>551.5</td>\n",
       "      <td>0.0</td>\n",
       "      <td>2580.0</td>\n",
       "      <td>6500.3</td>\n",
       "      <td>0.0</td>\n",
       "      <td>0.0</td>\n",
       "    </tr>\n",
       "    <tr>\n",
       "      <th>3</th>\n",
       "      <td>2020-01-04</td>\n",
       "      <td>1160</td>\n",
       "      <td>0.0</td>\n",
       "      <td>0.0</td>\n",
       "      <td>2245.5</td>\n",
       "      <td>6499.6</td>\n",
       "      <td>0.0</td>\n",
       "      <td>0.0</td>\n",
       "    </tr>\n",
       "    <tr>\n",
       "      <th>4</th>\n",
       "      <td>2020-01-05</td>\n",
       "      <td>1070</td>\n",
       "      <td>540.0</td>\n",
       "      <td>0.0</td>\n",
       "      <td>1751.1</td>\n",
       "      <td>6499.1</td>\n",
       "      <td>0.0</td>\n",
       "      <td>0.0</td>\n",
       "    </tr>\n",
       "  </tbody>\n",
       "</table>\n",
       "</div>"
      ],
      "text/plain": [
       "         Date  burger_sales  Instagram_Cost  Bing_Cost  Facebook_Cost  \\\n",
       "0  2020-01-01           950             0.0        0.0         1041.1   \n",
       "1  2020-01-02          1340           582.5        0.0         2597.0   \n",
       "2  2020-01-03          1370           551.5        0.0         2580.0   \n",
       "3  2020-01-04          1160             0.0        0.0         2245.5   \n",
       "4  2020-01-05          1070           540.0        0.0         1751.1   \n",
       "\n",
       "   Google_Cost  Pinterest_Cost  Tiktok Cost  \n",
       "0       4447.4             0.0          0.0  \n",
       "1       6561.1             0.0          0.0  \n",
       "2       6500.3             0.0          0.0  \n",
       "3       6499.6             0.0          0.0  \n",
       "4       6499.1             0.0          0.0  "
      ]
     },
     "execution_count": 5,
     "metadata": {},
     "output_type": "execute_result"
    }
   ],
   "source": [
    "df.head()"
   ]
  },
  {
   "cell_type": "code",
   "execution_count": 6,
   "id": "bfdf1e74",
   "metadata": {},
   "outputs": [
    {
     "data": {
      "text/html": [
       "<div>\n",
       "<style scoped>\n",
       "    .dataframe tbody tr th:only-of-type {\n",
       "        vertical-align: middle;\n",
       "    }\n",
       "\n",
       "    .dataframe tbody tr th {\n",
       "        vertical-align: top;\n",
       "    }\n",
       "\n",
       "    .dataframe thead th {\n",
       "        text-align: right;\n",
       "    }\n",
       "</style>\n",
       "<table border=\"1\" class=\"dataframe\">\n",
       "  <thead>\n",
       "    <tr style=\"text-align: right;\">\n",
       "      <th></th>\n",
       "      <th>Date</th>\n",
       "      <th>burger_sales</th>\n",
       "      <th>Instagram_Cost</th>\n",
       "      <th>Bing_Cost</th>\n",
       "      <th>Facebook_Cost</th>\n",
       "      <th>Google_Cost</th>\n",
       "      <th>Pinterest_Cost</th>\n",
       "      <th>Tiktok Cost</th>\n",
       "    </tr>\n",
       "  </thead>\n",
       "  <tbody>\n",
       "    <tr>\n",
       "      <th>845</th>\n",
       "      <td>2022-05-09</td>\n",
       "      <td>10630</td>\n",
       "      <td>27689.7</td>\n",
       "      <td>21901.7</td>\n",
       "      <td>47154.0</td>\n",
       "      <td>112787.84487</td>\n",
       "      <td>25793.2</td>\n",
       "      <td>20479.5</td>\n",
       "    </tr>\n",
       "    <tr>\n",
       "      <th>846</th>\n",
       "      <td>2022-05-28</td>\n",
       "      <td>10930</td>\n",
       "      <td>0.0</td>\n",
       "      <td>0.0</td>\n",
       "      <td>38461.0</td>\n",
       "      <td>64788.29081</td>\n",
       "      <td>21939.2</td>\n",
       "      <td>0.0</td>\n",
       "    </tr>\n",
       "    <tr>\n",
       "      <th>847</th>\n",
       "      <td>2022-05-29</td>\n",
       "      <td>10510</td>\n",
       "      <td>0.0</td>\n",
       "      <td>0.0</td>\n",
       "      <td>45635.0</td>\n",
       "      <td>89638.52679</td>\n",
       "      <td>21673.6</td>\n",
       "      <td>0.0</td>\n",
       "    </tr>\n",
       "    <tr>\n",
       "      <th>848</th>\n",
       "      <td>2022-05-30</td>\n",
       "      <td>13160</td>\n",
       "      <td>7424.3</td>\n",
       "      <td>0.0</td>\n",
       "      <td>91366.7</td>\n",
       "      <td>133683.23351</td>\n",
       "      <td>20171.6</td>\n",
       "      <td>0.0</td>\n",
       "    </tr>\n",
       "    <tr>\n",
       "      <th>849</th>\n",
       "      <td>2022-05-31</td>\n",
       "      <td>13270</td>\n",
       "      <td>31764.5</td>\n",
       "      <td>0.0</td>\n",
       "      <td>112900.9</td>\n",
       "      <td>100072.20142</td>\n",
       "      <td>20679.2</td>\n",
       "      <td>0.0</td>\n",
       "    </tr>\n",
       "  </tbody>\n",
       "</table>\n",
       "</div>"
      ],
      "text/plain": [
       "           Date  burger_sales  Instagram_Cost  Bing_Cost  Facebook_Cost  \\\n",
       "845  2022-05-09         10630         27689.7    21901.7        47154.0   \n",
       "846  2022-05-28         10930             0.0        0.0        38461.0   \n",
       "847  2022-05-29         10510             0.0        0.0        45635.0   \n",
       "848  2022-05-30         13160          7424.3        0.0        91366.7   \n",
       "849  2022-05-31         13270         31764.5        0.0       112900.9   \n",
       "\n",
       "      Google_Cost  Pinterest_Cost  Tiktok Cost  \n",
       "845  112787.84487         25793.2      20479.5  \n",
       "846   64788.29081         21939.2          0.0  \n",
       "847   89638.52679         21673.6          0.0  \n",
       "848  133683.23351         20171.6          0.0  \n",
       "849  100072.20142         20679.2          0.0  "
      ]
     },
     "execution_count": 6,
     "metadata": {},
     "output_type": "execute_result"
    }
   ],
   "source": [
    "df.tail()"
   ]
  },
  {
   "cell_type": "code",
   "execution_count": 7,
   "id": "ada83699",
   "metadata": {},
   "outputs": [
    {
     "data": {
      "text/plain": [
       "(850, 8)"
      ]
     },
     "execution_count": 7,
     "metadata": {},
     "output_type": "execute_result"
    }
   ],
   "source": [
    "df.shape"
   ]
  },
  {
   "cell_type": "code",
   "execution_count": 8,
   "id": "6704e345",
   "metadata": {
    "scrolled": false
   },
   "outputs": [
    {
     "name": "stdout",
     "output_type": "stream",
     "text": [
      "<class 'pandas.core.frame.DataFrame'>\n",
      "RangeIndex: 850 entries, 0 to 849\n",
      "Data columns (total 8 columns):\n",
      " #   Column          Non-Null Count  Dtype  \n",
      "---  ------          --------------  -----  \n",
      " 0   Date            850 non-null    object \n",
      " 1   burger_sales    850 non-null    int64  \n",
      " 2   Instagram_Cost  850 non-null    float64\n",
      " 3   Bing_Cost       850 non-null    float64\n",
      " 4   Facebook_Cost   850 non-null    float64\n",
      " 5   Google_Cost     850 non-null    float64\n",
      " 6   Pinterest_Cost  850 non-null    float64\n",
      " 7   Tiktok Cost     850 non-null    float64\n",
      "dtypes: float64(6), int64(1), object(1)\n",
      "memory usage: 53.2+ KB\n"
     ]
    }
   ],
   "source": [
    "# Understanding the data types\n",
    "df.info()"
   ]
  },
  {
   "cell_type": "code",
   "execution_count": 9,
   "id": "bb0755d8",
   "metadata": {},
   "outputs": [],
   "source": [
    "df['Date'] = pd.to_datetime(df['Date'])"
   ]
  },
  {
   "cell_type": "code",
   "execution_count": 10,
   "id": "53df33a8",
   "metadata": {},
   "outputs": [
    {
     "data": {
      "text/html": [
       "<div>\n",
       "<style scoped>\n",
       "    .dataframe tbody tr th:only-of-type {\n",
       "        vertical-align: middle;\n",
       "    }\n",
       "\n",
       "    .dataframe tbody tr th {\n",
       "        vertical-align: top;\n",
       "    }\n",
       "\n",
       "    .dataframe thead th {\n",
       "        text-align: right;\n",
       "    }\n",
       "</style>\n",
       "<table border=\"1\" class=\"dataframe\">\n",
       "  <thead>\n",
       "    <tr style=\"text-align: right;\">\n",
       "      <th></th>\n",
       "      <th></th>\n",
       "      <th>burger_sales</th>\n",
       "      <th>Instagram_Cost</th>\n",
       "      <th>Bing_Cost</th>\n",
       "      <th>Facebook_Cost</th>\n",
       "      <th>Google_Cost</th>\n",
       "      <th>Pinterest_Cost</th>\n",
       "      <th>Tiktok Cost</th>\n",
       "    </tr>\n",
       "    <tr>\n",
       "      <th>Date</th>\n",
       "      <th>Date</th>\n",
       "      <th></th>\n",
       "      <th></th>\n",
       "      <th></th>\n",
       "      <th></th>\n",
       "      <th></th>\n",
       "      <th></th>\n",
       "      <th></th>\n",
       "    </tr>\n",
       "  </thead>\n",
       "  <tbody>\n",
       "    <tr>\n",
       "      <th rowspan=\"12\" valign=\"top\">2020</th>\n",
       "      <th>1</th>\n",
       "      <td>50170</td>\n",
       "      <td>18521.7</td>\n",
       "      <td>0.0</td>\n",
       "      <td>7.732259e+04</td>\n",
       "      <td>4.248102e+05</td>\n",
       "      <td>0.0</td>\n",
       "      <td>0.0</td>\n",
       "    </tr>\n",
       "    <tr>\n",
       "      <th>2</th>\n",
       "      <td>55420</td>\n",
       "      <td>19208.1</td>\n",
       "      <td>61866.7</td>\n",
       "      <td>6.842948e+04</td>\n",
       "      <td>4.575025e+05</td>\n",
       "      <td>0.0</td>\n",
       "      <td>0.0</td>\n",
       "    </tr>\n",
       "    <tr>\n",
       "      <th>3</th>\n",
       "      <td>62680</td>\n",
       "      <td>12166.4</td>\n",
       "      <td>40873.9</td>\n",
       "      <td>4.237480e+04</td>\n",
       "      <td>4.504284e+05</td>\n",
       "      <td>0.0</td>\n",
       "      <td>0.0</td>\n",
       "    </tr>\n",
       "    <tr>\n",
       "      <th>4</th>\n",
       "      <td>49460</td>\n",
       "      <td>0.0</td>\n",
       "      <td>0.0</td>\n",
       "      <td>1.986400e+04</td>\n",
       "      <td>9.054086e+04</td>\n",
       "      <td>0.0</td>\n",
       "      <td>0.0</td>\n",
       "    </tr>\n",
       "    <tr>\n",
       "      <th>5</th>\n",
       "      <td>55860</td>\n",
       "      <td>0.0</td>\n",
       "      <td>0.0</td>\n",
       "      <td>2.036400e+04</td>\n",
       "      <td>9.098754e+04</td>\n",
       "      <td>0.0</td>\n",
       "      <td>0.0</td>\n",
       "    </tr>\n",
       "    <tr>\n",
       "      <th>6</th>\n",
       "      <td>70820</td>\n",
       "      <td>0.0</td>\n",
       "      <td>0.0</td>\n",
       "      <td>1.986400e+04</td>\n",
       "      <td>9.023447e+04</td>\n",
       "      <td>0.0</td>\n",
       "      <td>0.0</td>\n",
       "    </tr>\n",
       "    <tr>\n",
       "      <th>7</th>\n",
       "      <td>79990</td>\n",
       "      <td>0.0</td>\n",
       "      <td>0.0</td>\n",
       "      <td>1.948200e+04</td>\n",
       "      <td>9.360219e+04</td>\n",
       "      <td>0.0</td>\n",
       "      <td>0.0</td>\n",
       "    </tr>\n",
       "    <tr>\n",
       "      <th>8</th>\n",
       "      <td>73320</td>\n",
       "      <td>0.0</td>\n",
       "      <td>0.0</td>\n",
       "      <td>1.854000e+04</td>\n",
       "      <td>1.564701e+05</td>\n",
       "      <td>0.0</td>\n",
       "      <td>0.0</td>\n",
       "    </tr>\n",
       "    <tr>\n",
       "      <th>9</th>\n",
       "      <td>61780</td>\n",
       "      <td>5995.7</td>\n",
       "      <td>22796.9</td>\n",
       "      <td>2.515660e+04</td>\n",
       "      <td>1.767558e+05</td>\n",
       "      <td>0.0</td>\n",
       "      <td>0.0</td>\n",
       "    </tr>\n",
       "    <tr>\n",
       "      <th>10</th>\n",
       "      <td>60390</td>\n",
       "      <td>18601.9</td>\n",
       "      <td>45631.7</td>\n",
       "      <td>2.682250e+04</td>\n",
       "      <td>2.201678e+05</td>\n",
       "      <td>0.0</td>\n",
       "      <td>0.0</td>\n",
       "    </tr>\n",
       "    <tr>\n",
       "      <th>11</th>\n",
       "      <td>63590</td>\n",
       "      <td>17921.8</td>\n",
       "      <td>39086.4</td>\n",
       "      <td>2.563140e+04</td>\n",
       "      <td>1.491022e+05</td>\n",
       "      <td>0.0</td>\n",
       "      <td>0.0</td>\n",
       "    </tr>\n",
       "    <tr>\n",
       "      <th>12</th>\n",
       "      <td>71510</td>\n",
       "      <td>19421.7</td>\n",
       "      <td>102874.9</td>\n",
       "      <td>2.195890e+04</td>\n",
       "      <td>2.521069e+05</td>\n",
       "      <td>0.0</td>\n",
       "      <td>0.0</td>\n",
       "    </tr>\n",
       "    <tr>\n",
       "      <th rowspan=\"12\" valign=\"top\">2021</th>\n",
       "      <th>1</th>\n",
       "      <td>209670</td>\n",
       "      <td>27355.4</td>\n",
       "      <td>207955.7</td>\n",
       "      <td>2.863420e+04</td>\n",
       "      <td>1.302524e+06</td>\n",
       "      <td>0.0</td>\n",
       "      <td>0.0</td>\n",
       "    </tr>\n",
       "    <tr>\n",
       "      <th>2</th>\n",
       "      <td>258610</td>\n",
       "      <td>31516.2</td>\n",
       "      <td>146207.0</td>\n",
       "      <td>7.482120e+04</td>\n",
       "      <td>2.018152e+06</td>\n",
       "      <td>0.0</td>\n",
       "      <td>0.0</td>\n",
       "    </tr>\n",
       "    <tr>\n",
       "      <th>3</th>\n",
       "      <td>283820</td>\n",
       "      <td>37346.4</td>\n",
       "      <td>181552.0</td>\n",
       "      <td>7.630550e+04</td>\n",
       "      <td>2.275848e+06</td>\n",
       "      <td>0.0</td>\n",
       "      <td>0.0</td>\n",
       "    </tr>\n",
       "    <tr>\n",
       "      <th>4</th>\n",
       "      <td>307760</td>\n",
       "      <td>35524.1</td>\n",
       "      <td>184210.3</td>\n",
       "      <td>7.585770e+04</td>\n",
       "      <td>2.439219e+06</td>\n",
       "      <td>0.0</td>\n",
       "      <td>0.0</td>\n",
       "    </tr>\n",
       "    <tr>\n",
       "      <th>5</th>\n",
       "      <td>251890</td>\n",
       "      <td>36975.7</td>\n",
       "      <td>153453.9</td>\n",
       "      <td>8.070470e+04</td>\n",
       "      <td>2.662573e+06</td>\n",
       "      <td>0.0</td>\n",
       "      <td>0.0</td>\n",
       "    </tr>\n",
       "    <tr>\n",
       "      <th>6</th>\n",
       "      <td>228050</td>\n",
       "      <td>39902.1</td>\n",
       "      <td>215184.7</td>\n",
       "      <td>3.685225e+05</td>\n",
       "      <td>2.827655e+06</td>\n",
       "      <td>0.0</td>\n",
       "      <td>0.0</td>\n",
       "    </tr>\n",
       "    <tr>\n",
       "      <th>7</th>\n",
       "      <td>232370</td>\n",
       "      <td>41811.2</td>\n",
       "      <td>255707.2</td>\n",
       "      <td>5.381609e+05</td>\n",
       "      <td>4.457345e+06</td>\n",
       "      <td>0.0</td>\n",
       "      <td>0.0</td>\n",
       "    </tr>\n",
       "    <tr>\n",
       "      <th>8</th>\n",
       "      <td>155050</td>\n",
       "      <td>29321.1</td>\n",
       "      <td>183265.4</td>\n",
       "      <td>2.743901e+05</td>\n",
       "      <td>2.731382e+06</td>\n",
       "      <td>0.0</td>\n",
       "      <td>0.0</td>\n",
       "    </tr>\n",
       "    <tr>\n",
       "      <th>9</th>\n",
       "      <td>259030</td>\n",
       "      <td>52380.4</td>\n",
       "      <td>373659.2</td>\n",
       "      <td>3.135435e+05</td>\n",
       "      <td>5.418743e+06</td>\n",
       "      <td>0.0</td>\n",
       "      <td>0.0</td>\n",
       "    </tr>\n",
       "    <tr>\n",
       "      <th>10</th>\n",
       "      <td>229700</td>\n",
       "      <td>53194.0</td>\n",
       "      <td>486723.3</td>\n",
       "      <td>2.714507e+05</td>\n",
       "      <td>4.263571e+06</td>\n",
       "      <td>0.0</td>\n",
       "      <td>0.0</td>\n",
       "    </tr>\n",
       "    <tr>\n",
       "      <th>11</th>\n",
       "      <td>190530</td>\n",
       "      <td>51617.2</td>\n",
       "      <td>447125.6</td>\n",
       "      <td>3.180642e+05</td>\n",
       "      <td>2.989293e+06</td>\n",
       "      <td>0.0</td>\n",
       "      <td>0.0</td>\n",
       "    </tr>\n",
       "    <tr>\n",
       "      <th>12</th>\n",
       "      <td>179510</td>\n",
       "      <td>38581.2</td>\n",
       "      <td>534676.3</td>\n",
       "      <td>3.050658e+05</td>\n",
       "      <td>3.461624e+06</td>\n",
       "      <td>0.0</td>\n",
       "      <td>55222.8</td>\n",
       "    </tr>\n",
       "    <tr>\n",
       "      <th rowspan=\"5\" valign=\"top\">2022</th>\n",
       "      <th>1</th>\n",
       "      <td>231400</td>\n",
       "      <td>60498.5</td>\n",
       "      <td>667796.1</td>\n",
       "      <td>3.978096e+05</td>\n",
       "      <td>6.318478e+06</td>\n",
       "      <td>0.0</td>\n",
       "      <td>465265.1</td>\n",
       "    </tr>\n",
       "    <tr>\n",
       "      <th>2</th>\n",
       "      <td>200650</td>\n",
       "      <td>67330.2</td>\n",
       "      <td>975552.9</td>\n",
       "      <td>5.592007e+05</td>\n",
       "      <td>6.021804e+06</td>\n",
       "      <td>0.0</td>\n",
       "      <td>482465.6</td>\n",
       "    </tr>\n",
       "    <tr>\n",
       "      <th>3</th>\n",
       "      <td>304780</td>\n",
       "      <td>117523.7</td>\n",
       "      <td>1428912.4</td>\n",
       "      <td>9.193413e+05</td>\n",
       "      <td>9.136621e+06</td>\n",
       "      <td>0.0</td>\n",
       "      <td>811106.1</td>\n",
       "    </tr>\n",
       "    <tr>\n",
       "      <th>4</th>\n",
       "      <td>291780</td>\n",
       "      <td>208141.5</td>\n",
       "      <td>608063.8</td>\n",
       "      <td>1.722961e+06</td>\n",
       "      <td>7.690282e+06</td>\n",
       "      <td>0.0</td>\n",
       "      <td>519981.0</td>\n",
       "    </tr>\n",
       "    <tr>\n",
       "      <th>5</th>\n",
       "      <td>149920</td>\n",
       "      <td>262532.9</td>\n",
       "      <td>126394.2</td>\n",
       "      <td>1.278190e+06</td>\n",
       "      <td>2.147642e+06</td>\n",
       "      <td>161682.2</td>\n",
       "      <td>176990.9</td>\n",
       "    </tr>\n",
       "  </tbody>\n",
       "</table>\n",
       "</div>"
      ],
      "text/plain": [
       "           burger_sales  Instagram_Cost  Bing_Cost  Facebook_Cost  \\\n",
       "Date Date                                                           \n",
       "2020 1            50170         18521.7        0.0   7.732259e+04   \n",
       "     2            55420         19208.1    61866.7   6.842948e+04   \n",
       "     3            62680         12166.4    40873.9   4.237480e+04   \n",
       "     4            49460             0.0        0.0   1.986400e+04   \n",
       "     5            55860             0.0        0.0   2.036400e+04   \n",
       "     6            70820             0.0        0.0   1.986400e+04   \n",
       "     7            79990             0.0        0.0   1.948200e+04   \n",
       "     8            73320             0.0        0.0   1.854000e+04   \n",
       "     9            61780          5995.7    22796.9   2.515660e+04   \n",
       "     10           60390         18601.9    45631.7   2.682250e+04   \n",
       "     11           63590         17921.8    39086.4   2.563140e+04   \n",
       "     12           71510         19421.7   102874.9   2.195890e+04   \n",
       "2021 1           209670         27355.4   207955.7   2.863420e+04   \n",
       "     2           258610         31516.2   146207.0   7.482120e+04   \n",
       "     3           283820         37346.4   181552.0   7.630550e+04   \n",
       "     4           307760         35524.1   184210.3   7.585770e+04   \n",
       "     5           251890         36975.7   153453.9   8.070470e+04   \n",
       "     6           228050         39902.1   215184.7   3.685225e+05   \n",
       "     7           232370         41811.2   255707.2   5.381609e+05   \n",
       "     8           155050         29321.1   183265.4   2.743901e+05   \n",
       "     9           259030         52380.4   373659.2   3.135435e+05   \n",
       "     10          229700         53194.0   486723.3   2.714507e+05   \n",
       "     11          190530         51617.2   447125.6   3.180642e+05   \n",
       "     12          179510         38581.2   534676.3   3.050658e+05   \n",
       "2022 1           231400         60498.5   667796.1   3.978096e+05   \n",
       "     2           200650         67330.2   975552.9   5.592007e+05   \n",
       "     3           304780        117523.7  1428912.4   9.193413e+05   \n",
       "     4           291780        208141.5   608063.8   1.722961e+06   \n",
       "     5           149920        262532.9   126394.2   1.278190e+06   \n",
       "\n",
       "            Google_Cost  Pinterest_Cost  Tiktok Cost  \n",
       "Date Date                                             \n",
       "2020 1     4.248102e+05             0.0          0.0  \n",
       "     2     4.575025e+05             0.0          0.0  \n",
       "     3     4.504284e+05             0.0          0.0  \n",
       "     4     9.054086e+04             0.0          0.0  \n",
       "     5     9.098754e+04             0.0          0.0  \n",
       "     6     9.023447e+04             0.0          0.0  \n",
       "     7     9.360219e+04             0.0          0.0  \n",
       "     8     1.564701e+05             0.0          0.0  \n",
       "     9     1.767558e+05             0.0          0.0  \n",
       "     10    2.201678e+05             0.0          0.0  \n",
       "     11    1.491022e+05             0.0          0.0  \n",
       "     12    2.521069e+05             0.0          0.0  \n",
       "2021 1     1.302524e+06             0.0          0.0  \n",
       "     2     2.018152e+06             0.0          0.0  \n",
       "     3     2.275848e+06             0.0          0.0  \n",
       "     4     2.439219e+06             0.0          0.0  \n",
       "     5     2.662573e+06             0.0          0.0  \n",
       "     6     2.827655e+06             0.0          0.0  \n",
       "     7     4.457345e+06             0.0          0.0  \n",
       "     8     2.731382e+06             0.0          0.0  \n",
       "     9     5.418743e+06             0.0          0.0  \n",
       "     10    4.263571e+06             0.0          0.0  \n",
       "     11    2.989293e+06             0.0          0.0  \n",
       "     12    3.461624e+06             0.0      55222.8  \n",
       "2022 1     6.318478e+06             0.0     465265.1  \n",
       "     2     6.021804e+06             0.0     482465.6  \n",
       "     3     9.136621e+06             0.0     811106.1  \n",
       "     4     7.690282e+06             0.0     519981.0  \n",
       "     5     2.147642e+06        161682.2     176990.9  "
      ]
     },
     "execution_count": 10,
     "metadata": {},
     "output_type": "execute_result"
    }
   ],
   "source": [
    "\n",
    "\n",
    "# Group by year and month\n",
    "df.groupby(\n",
    "  [\n",
    "    df['Date'].dt.year,\n",
    "    df['Date'].dt.month \n",
    "  ]\n",
    ").sum()\n"
   ]
  },
  {
   "cell_type": "code",
   "execution_count": 11,
   "id": "66c939a6",
   "metadata": {
    "scrolled": false
   },
   "outputs": [
    {
     "data": {
      "text/plain": [
       "Date              0\n",
       "burger_sales      0\n",
       "Instagram_Cost    0\n",
       "Bing_Cost         0\n",
       "Facebook_Cost     0\n",
       "Google_Cost       0\n",
       "Pinterest_Cost    0\n",
       "Tiktok Cost       0\n",
       "dtype: int64"
      ]
     },
     "execution_count": 11,
     "metadata": {},
     "output_type": "execute_result"
    }
   ],
   "source": [
    "# Finding the null values\n",
    "df.isnull().sum()"
   ]
  },
  {
   "cell_type": "code",
   "execution_count": 12,
   "id": "4488fa6a",
   "metadata": {
    "scrolled": false
   },
   "outputs": [
    {
     "data": {
      "text/html": [
       "<div>\n",
       "<style scoped>\n",
       "    .dataframe tbody tr th:only-of-type {\n",
       "        vertical-align: middle;\n",
       "    }\n",
       "\n",
       "    .dataframe tbody tr th {\n",
       "        vertical-align: top;\n",
       "    }\n",
       "\n",
       "    .dataframe thead th {\n",
       "        text-align: right;\n",
       "    }\n",
       "</style>\n",
       "<table border=\"1\" class=\"dataframe\">\n",
       "  <thead>\n",
       "    <tr style=\"text-align: right;\">\n",
       "      <th></th>\n",
       "      <th>burger_sales</th>\n",
       "      <th>Instagram_Cost</th>\n",
       "      <th>Bing_Cost</th>\n",
       "      <th>Facebook_Cost</th>\n",
       "      <th>Google_Cost</th>\n",
       "      <th>Pinterest_Cost</th>\n",
       "      <th>Tiktok Cost</th>\n",
       "    </tr>\n",
       "  </thead>\n",
       "  <tbody>\n",
       "    <tr>\n",
       "      <th>count</th>\n",
       "      <td>850.000000</td>\n",
       "      <td>850.000000</td>\n",
       "      <td>850.000000</td>\n",
       "      <td>850.000000</td>\n",
       "      <td>850.000000</td>\n",
       "      <td>850.000000</td>\n",
       "      <td>850.000000</td>\n",
       "    </tr>\n",
       "    <tr>\n",
       "      <th>mean</th>\n",
       "      <td>5552.364706</td>\n",
       "      <td>1533.398941</td>\n",
       "      <td>8811.259412</td>\n",
       "      <td>9398.627764</td>\n",
       "      <td>83312.311111</td>\n",
       "      <td>190.214353</td>\n",
       "      <td>2954.154706</td>\n",
       "    </tr>\n",
       "    <tr>\n",
       "      <th>std</th>\n",
       "      <td>3474.796542</td>\n",
       "      <td>3224.619512</td>\n",
       "      <td>13523.924115</td>\n",
       "      <td>19097.097897</td>\n",
       "      <td>90477.611520</td>\n",
       "      <td>2099.535343</td>\n",
       "      <td>7891.573845</td>\n",
       "    </tr>\n",
       "    <tr>\n",
       "      <th>min</th>\n",
       "      <td>950.000000</td>\n",
       "      <td>0.000000</td>\n",
       "      <td>0.000000</td>\n",
       "      <td>0.000000</td>\n",
       "      <td>1384.367340</td>\n",
       "      <td>0.000000</td>\n",
       "      <td>0.000000</td>\n",
       "    </tr>\n",
       "    <tr>\n",
       "      <th>25%</th>\n",
       "      <td>2082.500000</td>\n",
       "      <td>547.675000</td>\n",
       "      <td>0.000000</td>\n",
       "      <td>693.625000</td>\n",
       "      <td>6163.194115</td>\n",
       "      <td>0.000000</td>\n",
       "      <td>0.000000</td>\n",
       "    </tr>\n",
       "    <tr>\n",
       "      <th>50%</th>\n",
       "      <td>5705.000000</td>\n",
       "      <td>986.700000</td>\n",
       "      <td>4446.250000</td>\n",
       "      <td>2514.963315</td>\n",
       "      <td>60889.159615</td>\n",
       "      <td>0.000000</td>\n",
       "      <td>0.000000</td>\n",
       "    </tr>\n",
       "    <tr>\n",
       "      <th>75%</th>\n",
       "      <td>8535.000000</td>\n",
       "      <td>1611.300000</td>\n",
       "      <td>11576.100000</td>\n",
       "      <td>11246.500000</td>\n",
       "      <td>131052.455588</td>\n",
       "      <td>0.000000</td>\n",
       "      <td>0.000000</td>\n",
       "    </tr>\n",
       "    <tr>\n",
       "      <th>max</th>\n",
       "      <td>14880.000000</td>\n",
       "      <td>31764.500000</td>\n",
       "      <td>100594.500000</td>\n",
       "      <td>220378.100000</td>\n",
       "      <td>414996.447950</td>\n",
       "      <td>25803.100000</td>\n",
       "      <td>37641.900000</td>\n",
       "    </tr>\n",
       "  </tbody>\n",
       "</table>\n",
       "</div>"
      ],
      "text/plain": [
       "       burger_sales  Instagram_Cost      Bing_Cost  Facebook_Cost  \\\n",
       "count    850.000000      850.000000     850.000000     850.000000   \n",
       "mean    5552.364706     1533.398941    8811.259412    9398.627764   \n",
       "std     3474.796542     3224.619512   13523.924115   19097.097897   \n",
       "min      950.000000        0.000000       0.000000       0.000000   \n",
       "25%     2082.500000      547.675000       0.000000     693.625000   \n",
       "50%     5705.000000      986.700000    4446.250000    2514.963315   \n",
       "75%     8535.000000     1611.300000   11576.100000   11246.500000   \n",
       "max    14880.000000    31764.500000  100594.500000  220378.100000   \n",
       "\n",
       "         Google_Cost  Pinterest_Cost   Tiktok Cost  \n",
       "count     850.000000      850.000000    850.000000  \n",
       "mean    83312.311111      190.214353   2954.154706  \n",
       "std     90477.611520     2099.535343   7891.573845  \n",
       "min      1384.367340        0.000000      0.000000  \n",
       "25%      6163.194115        0.000000      0.000000  \n",
       "50%     60889.159615        0.000000      0.000000  \n",
       "75%    131052.455588        0.000000      0.000000  \n",
       "max    414996.447950    25803.100000  37641.900000  "
      ]
     },
     "execution_count": 12,
     "metadata": {},
     "output_type": "execute_result"
    }
   ],
   "source": [
    "# Getting summary of the data\n",
    "df.describe()"
   ]
  },
  {
   "cell_type": "markdown",
   "id": "b6d605e0",
   "metadata": {},
   "source": [
    "#### Exploratory Data Analysis"
   ]
  },
  {
   "cell_type": "code",
   "execution_count": 13,
   "id": "fbfc12d9",
   "metadata": {},
   "outputs": [],
   "source": [
    "pf = ProfileReport(df)"
   ]
  },
  {
   "cell_type": "code",
   "execution_count": 14,
   "id": "65c5485e",
   "metadata": {
    "scrolled": true
   },
   "outputs": [
    {
     "data": {
      "application/vnd.jupyter.widget-view+json": {
       "model_id": "0a8105cf633f4f4b987dd5ca28cd95e9",
       "version_major": 2,
       "version_minor": 0
      },
      "text/plain": [
       "Summarize dataset:   0%|          | 0/5 [00:00<?, ?it/s]"
      ]
     },
     "metadata": {},
     "output_type": "display_data"
    },
    {
     "data": {
      "application/vnd.jupyter.widget-view+json": {
       "model_id": "66237f7ab3bd4135a14173176c5cf687",
       "version_major": 2,
       "version_minor": 0
      },
      "text/plain": [
       "Generate report structure:   0%|          | 0/1 [00:00<?, ?it/s]"
      ]
     },
     "metadata": {},
     "output_type": "display_data"
    },
    {
     "data": {
      "application/vnd.jupyter.widget-view+json": {
       "model_id": "",
       "version_major": 2,
       "version_minor": 0
      },
      "text/plain": [
       "Render widgets:   0%|          | 0/1 [00:00<?, ?it/s]"
      ]
     },
     "metadata": {},
     "output_type": "display_data"
    },
    {
     "data": {
      "application/vnd.jupyter.widget-view+json": {
       "model_id": "a5ae499fca064cc5ba82454c3ab99e29",
       "version_major": 2,
       "version_minor": 0
      },
      "text/plain": [
       "VBox(children=(Tab(children=(Tab(children=(GridBox(children=(VBox(children=(GridspecLayout(children=(HTML(valu…"
      ]
     },
     "metadata": {},
     "output_type": "display_data"
    }
   ],
   "source": [
    "pf.to_widgets()\n"
   ]
  },
  {
   "cell_type": "code",
   "execution_count": 15,
   "id": "6bd0a361",
   "metadata": {},
   "outputs": [
    {
     "data": {
      "image/png": "[encoded data removed]",
      "text/plain": [
       "<Figure size 1080x720 with 1 Axes>"
      ]
     },
     "metadata": {
      "needs_background": "light"
     },
     "output_type": "display_data"
    }
   ],
   "source": [
    "x=df[\"Date\"]\n",
    "y=df['burger_sales']\n",
    "f = plt.figure()\n",
    "f.set_figwidth(15)\n",
    "f.set_figheight(10)\n",
    "plt.plot(x,y)\n",
    "plt.title('Year wise of Sales')\n",
    "plt.ylabel('Burger Sales')\n",
    "plt.xlabel('Date')\n",
    "plt.show()"
   ]
  },
  {
   "cell_type": "code",
   "execution_count": 16,
   "id": "90be50d4",
   "metadata": {},
   "outputs": [
    {
     "data": {
      "image/png": "[encoded data removed]",
      "text/plain": [
       "<Figure size 432x288 with 1 Axes>"
      ]
     },
     "metadata": {
      "needs_background": "light"
     },
     "output_type": "display_data"
    }
   ],
   "source": [
    "date_cond = df['Date'] < '2021-01-09'\n",
    "#plt.plot(df[date_cond][:]['burger_sales'])\n",
    "#plt.show()\n",
    "\n",
    "sns.kdeplot(df[date_cond]['burger_sales'])\n",
    "plt.show()"
   ]
  },
  {
   "cell_type": "code",
   "execution_count": 17,
   "id": "16c28336",
   "metadata": {},
   "outputs": [
    {
     "data": {
      "image/png": "[encoded data removed]",
      "text/plain": [
       "<Figure size 432x288 with 1 Axes>"
      ]
     },
     "metadata": {
      "needs_background": "light"
     },
     "output_type": "display_data"
    },
    {
     "data": {
      "image/png": "[encoded data removed]",
      "text/plain": [
       "<Figure size 432x288 with 1 Axes>"
      ]
     },
     "metadata": {
      "needs_background": "light"
     },
     "output_type": "display_data"
    }
   ],
   "source": [
    "date_cond = df['Date'] > '2021-01-08'\n",
    "plt.plot(df[date_cond][:]['burger_sales'])\n",
    "plt.figure\n",
    "f.set_figwidth(20)\n",
    "f.set_figheight(10)\n",
    "plt.show()\n",
    "\n",
    "sns.kdeplot(df[date_cond]['burger_sales'])\n",
    "plt.show()"
   ]
  },
  {
   "cell_type": "code",
   "execution_count": 18,
   "id": "dd82a1db",
   "metadata": {},
   "outputs": [
    {
     "data": {
      "text/html": [
       "<div>\n",
       "<style scoped>\n",
       "    .dataframe tbody tr th:only-of-type {\n",
       "        vertical-align: middle;\n",
       "    }\n",
       "\n",
       "    .dataframe tbody tr th {\n",
       "        vertical-align: top;\n",
       "    }\n",
       "\n",
       "    .dataframe thead th {\n",
       "        text-align: right;\n",
       "    }\n",
       "</style>\n",
       "<table border=\"1\" class=\"dataframe\">\n",
       "  <thead>\n",
       "    <tr style=\"text-align: right;\">\n",
       "      <th></th>\n",
       "      <th>burger_sales</th>\n",
       "      <th>Instagram_Cost</th>\n",
       "      <th>Bing_Cost</th>\n",
       "      <th>Facebook_Cost</th>\n",
       "      <th>Google_Cost</th>\n",
       "      <th>Pinterest_Cost</th>\n",
       "      <th>Tiktok Cost</th>\n",
       "    </tr>\n",
       "  </thead>\n",
       "  <tbody>\n",
       "    <tr>\n",
       "      <th>burger_sales</th>\n",
       "      <td>1.000000</td>\n",
       "      <td>0.446086</td>\n",
       "      <td>0.489931</td>\n",
       "      <td>0.484205</td>\n",
       "      <td>0.763942</td>\n",
       "      <td>0.152668</td>\n",
       "      <td>0.392604</td>\n",
       "    </tr>\n",
       "    <tr>\n",
       "      <th>Instagram_Cost</th>\n",
       "      <td>0.446086</td>\n",
       "      <td>1.000000</td>\n",
       "      <td>0.254739</td>\n",
       "      <td>0.815513</td>\n",
       "      <td>0.443803</td>\n",
       "      <td>0.468278</td>\n",
       "      <td>0.417428</td>\n",
       "    </tr>\n",
       "    <tr>\n",
       "      <th>Bing_Cost</th>\n",
       "      <td>0.489931</td>\n",
       "      <td>0.254739</td>\n",
       "      <td>1.000000</td>\n",
       "      <td>0.388711</td>\n",
       "      <td>0.703928</td>\n",
       "      <td>-0.000676</td>\n",
       "      <td>0.715859</td>\n",
       "    </tr>\n",
       "    <tr>\n",
       "      <th>Facebook_Cost</th>\n",
       "      <td>0.484205</td>\n",
       "      <td>0.815513</td>\n",
       "      <td>0.388711</td>\n",
       "      <td>1.000000</td>\n",
       "      <td>0.587438</td>\n",
       "      <td>0.269408</td>\n",
       "      <td>0.524689</td>\n",
       "    </tr>\n",
       "    <tr>\n",
       "      <th>Google_Cost</th>\n",
       "      <td>0.763942</td>\n",
       "      <td>0.443803</td>\n",
       "      <td>0.703928</td>\n",
       "      <td>0.587438</td>\n",
       "      <td>1.000000</td>\n",
       "      <td>0.022264</td>\n",
       "      <td>0.692561</td>\n",
       "    </tr>\n",
       "    <tr>\n",
       "      <th>Pinterest_Cost</th>\n",
       "      <td>0.152668</td>\n",
       "      <td>0.468278</td>\n",
       "      <td>-0.000676</td>\n",
       "      <td>0.269408</td>\n",
       "      <td>0.022264</td>\n",
       "      <td>1.000000</td>\n",
       "      <td>0.079653</td>\n",
       "    </tr>\n",
       "    <tr>\n",
       "      <th>Tiktok Cost</th>\n",
       "      <td>0.392604</td>\n",
       "      <td>0.417428</td>\n",
       "      <td>0.715859</td>\n",
       "      <td>0.524689</td>\n",
       "      <td>0.692561</td>\n",
       "      <td>0.079653</td>\n",
       "      <td>1.000000</td>\n",
       "    </tr>\n",
       "  </tbody>\n",
       "</table>\n",
       "</div>"
      ],
      "text/plain": [
       "                burger_sales  Instagram_Cost  Bing_Cost  Facebook_Cost  \\\n",
       "burger_sales        1.000000        0.446086   0.489931       0.484205   \n",
       "Instagram_Cost      0.446086        1.000000   0.254739       0.815513   \n",
       "Bing_Cost           0.489931        0.254739   1.000000       0.388711   \n",
       "Facebook_Cost       0.484205        0.815513   0.388711       1.000000   \n",
       "Google_Cost         0.763942        0.443803   0.703928       0.587438   \n",
       "Pinterest_Cost      0.152668        0.468278  -0.000676       0.269408   \n",
       "Tiktok Cost         0.392604        0.417428   0.715859       0.524689   \n",
       "\n",
       "                Google_Cost  Pinterest_Cost  Tiktok Cost  \n",
       "burger_sales       0.763942        0.152668     0.392604  \n",
       "Instagram_Cost     0.443803        0.468278     0.417428  \n",
       "Bing_Cost          0.703928       -0.000676     0.715859  \n",
       "Facebook_Cost      0.587438        0.269408     0.524689  \n",
       "Google_Cost        1.000000        0.022264     0.692561  \n",
       "Pinterest_Cost     0.022264        1.000000     0.079653  \n",
       "Tiktok Cost        0.692561        0.079653     1.000000  "
      ]
     },
     "execution_count": 18,
     "metadata": {},
     "output_type": "execute_result"
    }
   ],
   "source": [
    "cor=df.corr()\n",
    "cor"
   ]
  },
  {
   "cell_type": "code",
   "execution_count": 19,
   "id": "687f2b13",
   "metadata": {
    "scrolled": true
   },
   "outputs": [
    {
     "data": {
      "text/plain": [
       "<AxesSubplot:>"
      ]
     },
     "execution_count": 19,
     "metadata": {},
     "output_type": "execute_result"
    },
    {
     "data": {
      "image/png": "[encoded data removed]",
      "text/plain": [
       "<Figure size 432x288 with 2 Axes>"
      ]
     },
     "metadata": {
      "needs_background": "light"
     },
     "output_type": "display_data"
    }
   ],
   "source": [
    "corr = df[['burger_sales', 'Instagram_Cost', 'Bing_Cost', 'Facebook_Cost',\n",
    "       'Google_Cost', 'Pinterest_Cost', 'Tiktok Cost']].corr()\n",
    "\n",
    "sns.heatmap(corr, \n",
    "        xticklabels=corr.columns,\n",
    "        yticklabels=corr.columns,cmap='coolwarm')"
   ]
  },
  {
   "cell_type": "code",
   "execution_count": 20,
   "id": "79715ddd",
   "metadata": {},
   "outputs": [
    {
     "name": "stdout",
     "output_type": "stream",
     "text": [
      "0.8155132635308572 -- 3 -- 1 -- Facebook_Cost -- Instagram_Cost\n"
     ]
    }
   ],
   "source": [
    "correlated_features = set()\n",
    "for i in range(len(cor.columns)):\n",
    "    for j in range(i):\n",
    "        if abs(cor.iloc[i, j]) > 0.8:\n",
    "            colname1 = cor.columns[i]\n",
    "            colname2 = cor.columns[j]\n",
    "            print(abs(cor.iloc[i, j]), \"--\", i, '--', j, '--', colname1, '--', colname2)\n",
    "            correlated_features.add(colname1)\n",
    "            correlated_features.add(colname2)"
   ]
  },
  {
   "cell_type": "code",
   "execution_count": 21,
   "id": "6d862507",
   "metadata": {
    "scrolled": true
   },
   "outputs": [
    {
     "name": "stdout",
     "output_type": "stream",
     "text": [
      "cols\n",
      "Date              0.000000\n",
      "burger_sales      0.000000\n",
      "Instagram_Cost    0.236471\n",
      "Bing_Cost         0.275294\n",
      "Facebook_Cost     0.009412\n",
      "Google_Cost       0.000000\n",
      "Pinterest_Cost    0.991765\n",
      "Tiktok Cost       0.848235\n",
      "dtype: float64\n"
     ]
    }
   ],
   "source": [
    "\n",
    "print('cols')\n",
    "print(df[df == 0].count(axis=0)/len(df.index))"
   ]
  },
  {
   "cell_type": "code",
   "execution_count": 22,
   "id": "73f6f222",
   "metadata": {},
   "outputs": [],
   "source": [
    "\n",
    "del df[\"Instagram_Cost\"]"
   ]
  },
  {
   "cell_type": "code",
   "execution_count": 23,
   "id": "973bdc9a",
   "metadata": {},
   "outputs": [
    {
     "name": "stdout",
     "output_type": "stream",
     "text": [
      "         feature       VIF\n",
      "0   burger_sales  4.207369\n",
      "1      Bing_Cost  2.843830\n",
      "2  Facebook_Cost  1.897323\n",
      "3    Google_Cost  7.338883\n"
     ]
    }
   ],
   "source": [
    "from statsmodels.stats.outliers_influence import variance_inflation_factor\n",
    "\n",
    "# the independent variables set\n",
    "X = df[['burger_sales', 'Bing_Cost','Facebook_Cost','Google_Cost']]\n",
    "\n",
    "# VIF dataframe\n",
    "vif_df = pd.DataFrame()\n",
    "vif_df[\"feature\"] = X.columns\n",
    "\n",
    "# calculating VIF for each feature\n",
    "vif_df[\"VIF\"] = [variance_inflation_factor(X.values, i)\n",
    "\t\t\t\t\t\t for i in range(len(X.columns))]\n",
    "\n",
    "print(vif_df)\n"
   ]
  },
  {
   "cell_type": "code",
   "execution_count": 24,
   "id": "ea826d18",
   "metadata": {},
   "outputs": [],
   "source": [
    "#Dropping the column because it has large number of missing values.\n",
    "#df.drop(columns =['Tiktok Cost', 'Pinterest_Cost'])"
   ]
  },
  {
   "cell_type": "code",
   "execution_count": 25,
   "id": "81720dec",
   "metadata": {},
   "outputs": [
    {
     "data": {
      "image/png": "[encoded data removed]",
      "text/plain": [
       "<Figure size 720x1008 with 1 Axes>"
      ]
     },
     "metadata": {},
     "output_type": "display_data"
    }
   ],
   "source": [
    "# Group the data by Status and calculate the sum of the Amount column\n",
    "burger_sales_by_Year3 = df.groupby([\n",
    "    \n",
    "    df['Date'].dt.month \n",
    "  ]).sum()[\"burger_sales\"]\n",
    "\n",
    "# Plot the bar chart using Seaborn\n",
    "sns.set_style(\"whitegrid\")\n",
    "sns.set_palette(\"Greens_d\")\n",
    "\n",
    "fig, ax = plt.subplots(figsize=(10, 14))\n",
    "sns.barplot(x=burger_sales_by_Year3.index, y=burger_sales_by_Year3.values, ax=ax)\n",
    "\n",
    "ax.set_xlabel(\"Year\")\n",
    "ax.set_ylabel(\"Burger Sales\")\n",
    "ax.set_title(\"burger_sales_by_Year\")\n",
    "plt.xticks(rotation=90)\n",
    "\n",
    "\n",
    "plt.show()"
   ]
  },
  {
   "cell_type": "code",
   "execution_count": 26,
   "id": "9d5f1e10",
   "metadata": {},
   "outputs": [
    {
     "data": {
      "image/png": "[encoded data removed]",
      "text/plain": [
       "<Figure size 720x720 with 1 Axes>"
      ]
     },
     "metadata": {},
     "output_type": "display_data"
    }
   ],
   "source": [
    "# Group the data by Status and calculate the sum of the Amount column\n",
    "burger_sales_by_Year = df.groupby([df['Date'].dt.year]).sum()[\"burger_sales\"]\n",
    "\n",
    "# Plot the bar chart using Seaborn\n",
    "sns.set_style(\"whitegrid\")\n",
    "sns.set_palette(\"Greens_d\")\n",
    "\n",
    "fig, ax = plt.subplots(figsize=(10, 10))\n",
    "sns.barplot(x=burger_sales_by_Year.index, y=burger_sales_by_Year.values, ax=ax)\n",
    "\n",
    "ax.set_xlabel(\"Year\")\n",
    "ax.set_ylabel(\"Burger Sales\")\n",
    "ax.set_title(\"burger_sales_by_Year\")\n",
    "plt.xticks(rotation=90)\n",
    "\n",
    "\n",
    "plt.show()"
   ]
  },
  {
   "cell_type": "code",
   "execution_count": 27,
   "id": "cae206f1",
   "metadata": {},
   "outputs": [
    {
     "data": {
      "image/png": "[encoded data removed]",
      "text/plain": [
       "<Figure size 576x720 with 1 Axes>"
      ]
     },
     "metadata": {},
     "output_type": "display_data"
    }
   ],
   "source": [
    "# Group the data by Status and calculate the sum of the Amount column\n",
    "Google_cost_per_year = df.groupby([df['Date'].dt.year]).sum() ['Google_Cost']\n",
    "\n",
    "\n",
    "# Plot the bar chart using Seaborn\n",
    "sns.set_style(\"whitegrid\")\n",
    "sns.set_palette(\"Greens_d\")\n",
    "\n",
    "fig, ax = plt.subplots(figsize=(8, 10))\n",
    "sns.barplot(x=Google_cost_per_year.index, y=Google_cost_per_year.values, ax=ax)\n",
    "\n",
    "ax.set_xlabel(\"Year\")\n",
    "ax.set_ylabel(\"Google cost\")\n",
    "ax.set_title(\"Google cost per year\")\n",
    "plt.xticks(rotation=90)\n",
    "\n",
    "\n",
    "plt.show()"
   ]
  },
  {
   "cell_type": "code",
   "execution_count": 28,
   "id": "6acd394a",
   "metadata": {},
   "outputs": [
    {
     "data": {
      "image/png": "[encoded data removed]",
      "text/plain": [
       "<Figure size 1440x1008 with 1 Axes>"
      ]
     },
     "metadata": {},
     "output_type": "display_data"
    }
   ],
   "source": [
    "sales_over_time = df.groupby(['Date']).sum()['Tiktok Cost']\n",
    "\n",
    "\n",
    "fig = plt.figure(figsize=(20, 14))\n",
    "plt.plot(sales_over_time.index, sales_over_time.values)\n",
    "\n",
    "plt.title('Sales over the time')\n",
    "plt.xlabel('Date')\n",
    "plt.ylabel('Amount')\n",
    "plt.xticks(rotation=90)\n",
    "plt.show()"
   ]
  },
  {
   "cell_type": "code",
   "execution_count": 29,
   "id": "64c7c8a0",
   "metadata": {},
   "outputs": [
    {
     "data": {
      "image/png": "[encoded data removed]",
      "text/plain": [
       "<Figure size 720x720 with 1 Axes>"
      ]
     },
     "metadata": {},
     "output_type": "display_data"
    }
   ],
   "source": [
    "\n",
    "# Group the data by Status and calculate the sum of the Amount column\n",
    "burger_sales_by_Year = df.groupby([df['Date'].dt.year]).sum()[\"Facebook_Cost\"]\n",
    "\n",
    "# Plot the bar chart using Seaborn\n",
    "sns.set_style(\"whitegrid\")\n",
    "sns.set_palette(\"Greens_d\")\n",
    "\n",
    "fig, ax = plt.subplots(figsize=(10, 10))\n",
    "sns.barplot(x=burger_sales_by_Year.index, y=burger_sales_by_Year.values, ax=ax)\n",
    "\n",
    "ax.set_xlabel(\"Year\")\n",
    "ax.set_ylabel(\"Facebook cost\")\n",
    "ax.set_title(\"Facebook cost per Year\")\n",
    "plt.xticks(rotation=90)\n",
    "\n",
    "\n",
    "plt.show()"
   ]
  },
  {
   "cell_type": "markdown",
   "id": "60c93b62",
   "metadata": {},
   "source": [
    "# model1"
   ]
  },
  {
   "cell_type": "code",
   "execution_count": 30,
   "id": "6fb0c1b0",
   "metadata": {},
   "outputs": [],
   "source": [
    "df1=df.drop(columns =['Date'])"
   ]
  },
  {
   "cell_type": "code",
   "execution_count": 31,
   "id": "83b393f5",
   "metadata": {
    "scrolled": false
   },
   "outputs": [
    {
     "data": {
      "text/html": [
       "<div>\n",
       "<style scoped>\n",
       "    .dataframe tbody tr th:only-of-type {\n",
       "        vertical-align: middle;\n",
       "    }\n",
       "\n",
       "    .dataframe tbody tr th {\n",
       "        vertical-align: top;\n",
       "    }\n",
       "\n",
       "    .dataframe thead th {\n",
       "        text-align: right;\n",
       "    }\n",
       "</style>\n",
       "<table border=\"1\" class=\"dataframe\">\n",
       "  <thead>\n",
       "    <tr style=\"text-align: right;\">\n",
       "      <th></th>\n",
       "      <th>Bing_Cost</th>\n",
       "      <th>Facebook_Cost</th>\n",
       "      <th>Google_Cost</th>\n",
       "      <th>Pinterest_Cost</th>\n",
       "      <th>Tiktok Cost</th>\n",
       "    </tr>\n",
       "  </thead>\n",
       "  <tbody>\n",
       "    <tr>\n",
       "      <th>0</th>\n",
       "      <td>0.0</td>\n",
       "      <td>1041.1</td>\n",
       "      <td>4447.40000</td>\n",
       "      <td>0.0</td>\n",
       "      <td>0.0</td>\n",
       "    </tr>\n",
       "    <tr>\n",
       "      <th>1</th>\n",
       "      <td>0.0</td>\n",
       "      <td>2597.0</td>\n",
       "      <td>6561.10000</td>\n",
       "      <td>0.0</td>\n",
       "      <td>0.0</td>\n",
       "    </tr>\n",
       "    <tr>\n",
       "      <th>2</th>\n",
       "      <td>0.0</td>\n",
       "      <td>2580.0</td>\n",
       "      <td>6500.30000</td>\n",
       "      <td>0.0</td>\n",
       "      <td>0.0</td>\n",
       "    </tr>\n",
       "    <tr>\n",
       "      <th>3</th>\n",
       "      <td>0.0</td>\n",
       "      <td>2245.5</td>\n",
       "      <td>6499.60000</td>\n",
       "      <td>0.0</td>\n",
       "      <td>0.0</td>\n",
       "    </tr>\n",
       "    <tr>\n",
       "      <th>4</th>\n",
       "      <td>0.0</td>\n",
       "      <td>1751.1</td>\n",
       "      <td>6499.10000</td>\n",
       "      <td>0.0</td>\n",
       "      <td>0.0</td>\n",
       "    </tr>\n",
       "    <tr>\n",
       "      <th>...</th>\n",
       "      <td>...</td>\n",
       "      <td>...</td>\n",
       "      <td>...</td>\n",
       "      <td>...</td>\n",
       "      <td>...</td>\n",
       "    </tr>\n",
       "    <tr>\n",
       "      <th>845</th>\n",
       "      <td>21901.7</td>\n",
       "      <td>47154.0</td>\n",
       "      <td>112787.84487</td>\n",
       "      <td>25793.2</td>\n",
       "      <td>20479.5</td>\n",
       "    </tr>\n",
       "    <tr>\n",
       "      <th>846</th>\n",
       "      <td>0.0</td>\n",
       "      <td>38461.0</td>\n",
       "      <td>64788.29081</td>\n",
       "      <td>21939.2</td>\n",
       "      <td>0.0</td>\n",
       "    </tr>\n",
       "    <tr>\n",
       "      <th>847</th>\n",
       "      <td>0.0</td>\n",
       "      <td>45635.0</td>\n",
       "      <td>89638.52679</td>\n",
       "      <td>21673.6</td>\n",
       "      <td>0.0</td>\n",
       "    </tr>\n",
       "    <tr>\n",
       "      <th>848</th>\n",
       "      <td>0.0</td>\n",
       "      <td>91366.7</td>\n",
       "      <td>133683.23351</td>\n",
       "      <td>20171.6</td>\n",
       "      <td>0.0</td>\n",
       "    </tr>\n",
       "    <tr>\n",
       "      <th>849</th>\n",
       "      <td>0.0</td>\n",
       "      <td>112900.9</td>\n",
       "      <td>100072.20142</td>\n",
       "      <td>20679.2</td>\n",
       "      <td>0.0</td>\n",
       "    </tr>\n",
       "  </tbody>\n",
       "</table>\n",
       "<p>850 rows × 5 columns</p>\n",
       "</div>"
      ],
      "text/plain": [
       "     Bing_Cost  Facebook_Cost   Google_Cost  Pinterest_Cost  Tiktok Cost\n",
       "0          0.0         1041.1    4447.40000             0.0          0.0\n",
       "1          0.0         2597.0    6561.10000             0.0          0.0\n",
       "2          0.0         2580.0    6500.30000             0.0          0.0\n",
       "3          0.0         2245.5    6499.60000             0.0          0.0\n",
       "4          0.0         1751.1    6499.10000             0.0          0.0\n",
       "..         ...            ...           ...             ...          ...\n",
       "845    21901.7        47154.0  112787.84487         25793.2      20479.5\n",
       "846        0.0        38461.0   64788.29081         21939.2          0.0\n",
       "847        0.0        45635.0   89638.52679         21673.6          0.0\n",
       "848        0.0        91366.7  133683.23351         20171.6          0.0\n",
       "849        0.0       112900.9  100072.20142         20679.2          0.0\n",
       "\n",
       "[850 rows x 5 columns]"
      ]
     },
     "execution_count": 31,
     "metadata": {},
     "output_type": "execute_result"
    }
   ],
   "source": [
    "X=df1.drop(columns=[\"burger_sales\"])\n",
    "X"
   ]
  },
  {
   "cell_type": "code",
   "execution_count": 32,
   "id": "db21f9b5",
   "metadata": {},
   "outputs": [],
   "source": [
    "from sklearn.preprocessing import MinMaxScaler"
   ]
  },
  {
   "cell_type": "code",
   "execution_count": 33,
   "id": "d5deaff9",
   "metadata": {},
   "outputs": [],
   "source": [
    "scaling=MinMaxScaler()"
   ]
  },
  {
   "cell_type": "code",
   "execution_count": 34,
   "id": "c27ab587",
   "metadata": {},
   "outputs": [],
   "source": [
    "X=scaling.fit_transform(X)"
   ]
  },
  {
   "cell_type": "code",
   "execution_count": 35,
   "id": "1e3f1de0",
   "metadata": {
    "scrolled": true
   },
   "outputs": [
    {
     "data": {
      "text/plain": [
       "array([[0.        , 0.00472415, 0.00740557, 0.        , 0.        ],\n",
       "       [0.        , 0.01178429, 0.01251591, 0.        , 0.        ],\n",
       "       [0.        , 0.01170715, 0.01236891, 0.        , 0.        ],\n",
       "       ...,\n",
       "       [0.        , 0.20707593, 0.21337423, 0.83996109, 0.        ],\n",
       "       [0.        , 0.41459065, 0.31986219, 0.78175103, 0.        ],\n",
       "       [0.        , 0.51230544, 0.23859998, 0.80142308, 0.        ]])"
      ]
     },
     "execution_count": 35,
     "metadata": {},
     "output_type": "execute_result"
    }
   ],
   "source": [
    "X"
   ]
  },
  {
   "cell_type": "code",
   "execution_count": 36,
   "id": "18f8a39b",
   "metadata": {},
   "outputs": [],
   "source": [
    "X = pd.DataFrame(X, columns = ['Bing_Cost','Facebook_Cost','Google_Cost','Pinterest_Cost','Tiktok Cost'])\n"
   ]
  },
  {
   "cell_type": "code",
   "execution_count": 37,
   "id": "32c2499f",
   "metadata": {},
   "outputs": [
    {
     "data": {
      "text/html": [
       "<div>\n",
       "<style scoped>\n",
       "    .dataframe tbody tr th:only-of-type {\n",
       "        vertical-align: middle;\n",
       "    }\n",
       "\n",
       "    .dataframe tbody tr th {\n",
       "        vertical-align: top;\n",
       "    }\n",
       "\n",
       "    .dataframe thead th {\n",
       "        text-align: right;\n",
       "    }\n",
       "</style>\n",
       "<table border=\"1\" class=\"dataframe\">\n",
       "  <thead>\n",
       "    <tr style=\"text-align: right;\">\n",
       "      <th></th>\n",
       "      <th>Bing_Cost</th>\n",
       "      <th>Facebook_Cost</th>\n",
       "      <th>Google_Cost</th>\n",
       "      <th>Pinterest_Cost</th>\n",
       "      <th>Tiktok Cost</th>\n",
       "    </tr>\n",
       "  </thead>\n",
       "  <tbody>\n",
       "    <tr>\n",
       "      <th>0</th>\n",
       "      <td>0.000000</td>\n",
       "      <td>0.004724</td>\n",
       "      <td>0.007406</td>\n",
       "      <td>0.000000</td>\n",
       "      <td>0.000000</td>\n",
       "    </tr>\n",
       "    <tr>\n",
       "      <th>1</th>\n",
       "      <td>0.000000</td>\n",
       "      <td>0.011784</td>\n",
       "      <td>0.012516</td>\n",
       "      <td>0.000000</td>\n",
       "      <td>0.000000</td>\n",
       "    </tr>\n",
       "    <tr>\n",
       "      <th>2</th>\n",
       "      <td>0.000000</td>\n",
       "      <td>0.011707</td>\n",
       "      <td>0.012369</td>\n",
       "      <td>0.000000</td>\n",
       "      <td>0.000000</td>\n",
       "    </tr>\n",
       "    <tr>\n",
       "      <th>3</th>\n",
       "      <td>0.000000</td>\n",
       "      <td>0.010189</td>\n",
       "      <td>0.012367</td>\n",
       "      <td>0.000000</td>\n",
       "      <td>0.000000</td>\n",
       "    </tr>\n",
       "    <tr>\n",
       "      <th>4</th>\n",
       "      <td>0.000000</td>\n",
       "      <td>0.007946</td>\n",
       "      <td>0.012366</td>\n",
       "      <td>0.000000</td>\n",
       "      <td>0.000000</td>\n",
       "    </tr>\n",
       "    <tr>\n",
       "      <th>...</th>\n",
       "      <td>...</td>\n",
       "      <td>...</td>\n",
       "      <td>...</td>\n",
       "      <td>...</td>\n",
       "      <td>...</td>\n",
       "    </tr>\n",
       "    <tr>\n",
       "      <th>845</th>\n",
       "      <td>0.217723</td>\n",
       "      <td>0.213969</td>\n",
       "      <td>0.269343</td>\n",
       "      <td>0.999616</td>\n",
       "      <td>0.544061</td>\n",
       "    </tr>\n",
       "    <tr>\n",
       "      <th>846</th>\n",
       "      <td>0.000000</td>\n",
       "      <td>0.174523</td>\n",
       "      <td>0.153293</td>\n",
       "      <td>0.850254</td>\n",
       "      <td>0.000000</td>\n",
       "    </tr>\n",
       "    <tr>\n",
       "      <th>847</th>\n",
       "      <td>0.000000</td>\n",
       "      <td>0.207076</td>\n",
       "      <td>0.213374</td>\n",
       "      <td>0.839961</td>\n",
       "      <td>0.000000</td>\n",
       "    </tr>\n",
       "    <tr>\n",
       "      <th>848</th>\n",
       "      <td>0.000000</td>\n",
       "      <td>0.414591</td>\n",
       "      <td>0.319862</td>\n",
       "      <td>0.781751</td>\n",
       "      <td>0.000000</td>\n",
       "    </tr>\n",
       "    <tr>\n",
       "      <th>849</th>\n",
       "      <td>0.000000</td>\n",
       "      <td>0.512305</td>\n",
       "      <td>0.238600</td>\n",
       "      <td>0.801423</td>\n",
       "      <td>0.000000</td>\n",
       "    </tr>\n",
       "  </tbody>\n",
       "</table>\n",
       "<p>850 rows × 5 columns</p>\n",
       "</div>"
      ],
      "text/plain": [
       "     Bing_Cost  Facebook_Cost  Google_Cost  Pinterest_Cost  Tiktok Cost\n",
       "0     0.000000       0.004724     0.007406        0.000000     0.000000\n",
       "1     0.000000       0.011784     0.012516        0.000000     0.000000\n",
       "2     0.000000       0.011707     0.012369        0.000000     0.000000\n",
       "3     0.000000       0.010189     0.012367        0.000000     0.000000\n",
       "4     0.000000       0.007946     0.012366        0.000000     0.000000\n",
       "..         ...            ...          ...             ...          ...\n",
       "845   0.217723       0.213969     0.269343        0.999616     0.544061\n",
       "846   0.000000       0.174523     0.153293        0.850254     0.000000\n",
       "847   0.000000       0.207076     0.213374        0.839961     0.000000\n",
       "848   0.000000       0.414591     0.319862        0.781751     0.000000\n",
       "849   0.000000       0.512305     0.238600        0.801423     0.000000\n",
       "\n",
       "[850 rows x 5 columns]"
      ]
     },
     "execution_count": 37,
     "metadata": {},
     "output_type": "execute_result"
    }
   ],
   "source": [
    "X"
   ]
  },
  {
   "cell_type": "code",
   "execution_count": 38,
   "id": "4a90e0c0",
   "metadata": {
    "scrolled": false
   },
   "outputs": [
    {
     "data": {
      "text/plain": [
       "0        950\n",
       "1       1340\n",
       "2       1370\n",
       "3       1160\n",
       "4       1070\n",
       "       ...  \n",
       "845    10630\n",
       "846    10930\n",
       "847    10510\n",
       "848    13160\n",
       "849    13270\n",
       "Name: burger_sales, Length: 850, dtype: int64"
      ]
     },
     "execution_count": 38,
     "metadata": {},
     "output_type": "execute_result"
    }
   ],
   "source": [
    "y=df1['burger_sales']\n",
    "y"
   ]
  },
  {
   "cell_type": "code",
   "execution_count": 39,
   "id": "da7e70e9",
   "metadata": {},
   "outputs": [],
   "source": [
    "from sklearn.model_selection import train_test_split\n",
    "X_train, X_test, y_train, y_test = train_test_split(X, y, test_size=0.2, random_state=0)"
   ]
  },
  {
   "cell_type": "code",
   "execution_count": 40,
   "id": "4e80fdea",
   "metadata": {},
   "outputs": [],
   "source": [
    "from sklearn.linear_model import LinearRegression\n",
    "\n",
    "import statsmodels.api as sm\n"
   ]
  },
  {
   "cell_type": "code",
   "execution_count": 41,
   "id": "94ec8a99",
   "metadata": {},
   "outputs": [],
   "source": [
    "\n",
    "from sklearn.linear_model import LinearRegression\n",
    "import statsmodels.api as sm\n"
   ]
  },
  {
   "cell_type": "code",
   "execution_count": 42,
   "id": "7a1060b5",
   "metadata": {},
   "outputs": [],
   "source": [
    "X = sm.add_constant(X)"
   ]
  },
  {
   "cell_type": "code",
   "execution_count": 43,
   "id": "527ce250",
   "metadata": {},
   "outputs": [],
   "source": [
    " lm = sm.OLS(y,X).fit() "
   ]
  },
  {
   "cell_type": "code",
   "execution_count": 44,
   "id": "9d5a94e1",
   "metadata": {},
   "outputs": [
    {
     "name": "stdout",
     "output_type": "stream",
     "text": [
      "                            OLS Regression Results                            \n",
      "==============================================================================\n",
      "Dep. Variable:           burger_sales   R-squared:                       0.646\n",
      "Model:                            OLS   Adj. R-squared:                  0.644\n",
      "Method:                 Least Squares   F-statistic:                     307.5\n",
      "Date:                Mon, 03 Apr 2023   Prob (F-statistic):          2.60e-187\n",
      "Time:                        14:33:40   Log-Likelihood:                -7695.0\n",
      "No. Observations:                 850   AIC:                         1.540e+04\n",
      "Df Residuals:                     844   BIC:                         1.543e+04\n",
      "Df Model:                           5                                         \n",
      "Covariance Type:            nonrobust                                         \n",
      "==================================================================================\n",
      "                     coef    std err          t      P>|t|      [0.025      0.975]\n",
      "----------------------------------------------------------------------------------\n",
      "const           2840.0355    100.548     28.246      0.000    2642.683    3037.388\n",
      "Bing_Cost       1458.3853    843.013      1.730      0.084    -196.262    3113.033\n",
      "Facebook_Cost   2314.8592   1099.436      2.105      0.036     156.910    4472.809\n",
      "Google_Cost     1.441e+04    543.218     26.527      0.000    1.33e+04    1.55e+04\n",
      "Pinterest_Cost  6075.1830    923.474      6.579      0.000    4262.607    7887.759\n",
      "Tiktok Cost    -5265.0770    543.140     -9.694      0.000   -6331.140   -4199.014\n",
      "==============================================================================\n",
      "Omnibus:                      181.474   Durbin-Watson:                   0.264\n",
      "Prob(Omnibus):                  0.000   Jarque-Bera (JB):              369.099\n",
      "Skew:                           1.206   Prob(JB):                     7.10e-81\n",
      "Kurtosis:                       5.146   Cond. No.                         17.6\n",
      "==============================================================================\n",
      "\n",
      "Notes:\n",
      "[1] Standard Errors assume that the covariance matrix of the errors is correctly specified.\n"
     ]
    }
   ],
   "source": [
    "print(lm.summary()) "
   ]
  },
  {
   "cell_type": "markdown",
   "id": "4a248d9d",
   "metadata": {},
   "source": [
    "# model2"
   ]
  },
  {
   "cell_type": "code",
   "execution_count": 45,
   "id": "0d858288",
   "metadata": {},
   "outputs": [
    {
     "data": {
      "text/html": [
       "<div>\n",
       "<style scoped>\n",
       "    .dataframe tbody tr th:only-of-type {\n",
       "        vertical-align: middle;\n",
       "    }\n",
       "\n",
       "    .dataframe tbody tr th {\n",
       "        vertical-align: top;\n",
       "    }\n",
       "\n",
       "    .dataframe thead th {\n",
       "        text-align: right;\n",
       "    }\n",
       "</style>\n",
       "<table border=\"1\" class=\"dataframe\">\n",
       "  <thead>\n",
       "    <tr style=\"text-align: right;\">\n",
       "      <th></th>\n",
       "      <th>const</th>\n",
       "      <th>Bing_Cost</th>\n",
       "      <th>Google_Cost</th>\n",
       "      <th>Pinterest_Cost</th>\n",
       "      <th>Tiktok Cost</th>\n",
       "    </tr>\n",
       "  </thead>\n",
       "  <tbody>\n",
       "    <tr>\n",
       "      <th>0</th>\n",
       "      <td>1.0</td>\n",
       "      <td>0.000000</td>\n",
       "      <td>0.007406</td>\n",
       "      <td>0.000000</td>\n",
       "      <td>0.000000</td>\n",
       "    </tr>\n",
       "    <tr>\n",
       "      <th>1</th>\n",
       "      <td>1.0</td>\n",
       "      <td>0.000000</td>\n",
       "      <td>0.012516</td>\n",
       "      <td>0.000000</td>\n",
       "      <td>0.000000</td>\n",
       "    </tr>\n",
       "    <tr>\n",
       "      <th>2</th>\n",
       "      <td>1.0</td>\n",
       "      <td>0.000000</td>\n",
       "      <td>0.012369</td>\n",
       "      <td>0.000000</td>\n",
       "      <td>0.000000</td>\n",
       "    </tr>\n",
       "    <tr>\n",
       "      <th>3</th>\n",
       "      <td>1.0</td>\n",
       "      <td>0.000000</td>\n",
       "      <td>0.012367</td>\n",
       "      <td>0.000000</td>\n",
       "      <td>0.000000</td>\n",
       "    </tr>\n",
       "    <tr>\n",
       "      <th>4</th>\n",
       "      <td>1.0</td>\n",
       "      <td>0.000000</td>\n",
       "      <td>0.012366</td>\n",
       "      <td>0.000000</td>\n",
       "      <td>0.000000</td>\n",
       "    </tr>\n",
       "    <tr>\n",
       "      <th>...</th>\n",
       "      <td>...</td>\n",
       "      <td>...</td>\n",
       "      <td>...</td>\n",
       "      <td>...</td>\n",
       "      <td>...</td>\n",
       "    </tr>\n",
       "    <tr>\n",
       "      <th>845</th>\n",
       "      <td>1.0</td>\n",
       "      <td>0.217723</td>\n",
       "      <td>0.269343</td>\n",
       "      <td>0.999616</td>\n",
       "      <td>0.544061</td>\n",
       "    </tr>\n",
       "    <tr>\n",
       "      <th>846</th>\n",
       "      <td>1.0</td>\n",
       "      <td>0.000000</td>\n",
       "      <td>0.153293</td>\n",
       "      <td>0.850254</td>\n",
       "      <td>0.000000</td>\n",
       "    </tr>\n",
       "    <tr>\n",
       "      <th>847</th>\n",
       "      <td>1.0</td>\n",
       "      <td>0.000000</td>\n",
       "      <td>0.213374</td>\n",
       "      <td>0.839961</td>\n",
       "      <td>0.000000</td>\n",
       "    </tr>\n",
       "    <tr>\n",
       "      <th>848</th>\n",
       "      <td>1.0</td>\n",
       "      <td>0.000000</td>\n",
       "      <td>0.319862</td>\n",
       "      <td>0.781751</td>\n",
       "      <td>0.000000</td>\n",
       "    </tr>\n",
       "    <tr>\n",
       "      <th>849</th>\n",
       "      <td>1.0</td>\n",
       "      <td>0.000000</td>\n",
       "      <td>0.238600</td>\n",
       "      <td>0.801423</td>\n",
       "      <td>0.000000</td>\n",
       "    </tr>\n",
       "  </tbody>\n",
       "</table>\n",
       "<p>850 rows × 5 columns</p>\n",
       "</div>"
      ],
      "text/plain": [
       "     const  Bing_Cost  Google_Cost  Pinterest_Cost  Tiktok Cost\n",
       "0      1.0   0.000000     0.007406        0.000000     0.000000\n",
       "1      1.0   0.000000     0.012516        0.000000     0.000000\n",
       "2      1.0   0.000000     0.012369        0.000000     0.000000\n",
       "3      1.0   0.000000     0.012367        0.000000     0.000000\n",
       "4      1.0   0.000000     0.012366        0.000000     0.000000\n",
       "..     ...        ...          ...             ...          ...\n",
       "845    1.0   0.217723     0.269343        0.999616     0.544061\n",
       "846    1.0   0.000000     0.153293        0.850254     0.000000\n",
       "847    1.0   0.000000     0.213374        0.839961     0.000000\n",
       "848    1.0   0.000000     0.319862        0.781751     0.000000\n",
       "849    1.0   0.000000     0.238600        0.801423     0.000000\n",
       "\n",
       "[850 rows x 5 columns]"
      ]
     },
     "execution_count": 45,
     "metadata": {},
     "output_type": "execute_result"
    }
   ],
   "source": [
    "X1=X.drop(columns=[\"Facebook_Cost\"])\n",
    "X1"
   ]
  },
  {
   "cell_type": "code",
   "execution_count": 46,
   "id": "8044f777",
   "metadata": {},
   "outputs": [],
   "source": [
    "y1=y"
   ]
  },
  {
   "cell_type": "code",
   "execution_count": 47,
   "id": "477ba14c",
   "metadata": {},
   "outputs": [],
   "source": [
    "X_train1, X_test1, y_train1, y_test1 = train_test_split(X1, y1, test_size=0.2, random_state=0)"
   ]
  },
  {
   "cell_type": "code",
   "execution_count": 48,
   "id": "cf3fa983",
   "metadata": {},
   "outputs": [],
   "source": [
    "X1= sm.add_constant(X1)"
   ]
  },
  {
   "cell_type": "code",
   "execution_count": 49,
   "id": "887d738b",
   "metadata": {},
   "outputs": [],
   "source": [
    "lm1 = sm.OLS(y1,X1).fit()"
   ]
  },
  {
   "cell_type": "code",
   "execution_count": 50,
   "id": "234cd2f0",
   "metadata": {},
   "outputs": [
    {
     "name": "stdout",
     "output_type": "stream",
     "text": [
      "                            OLS Regression Results                            \n",
      "==============================================================================\n",
      "Dep. Variable:           burger_sales   R-squared:                       0.644\n",
      "Model:                            OLS   Adj. R-squared:                  0.642\n",
      "Method:                 Least Squares   F-statistic:                     381.7\n",
      "Date:                Mon, 03 Apr 2023   Prob (F-statistic):          1.14e-187\n",
      "Time:                        14:33:40   Log-Likelihood:                -7697.2\n",
      "No. Observations:                 850   AIC:                         1.540e+04\n",
      "Df Residuals:                     845   BIC:                         1.543e+04\n",
      "Df Model:                           4                                         \n",
      "Covariance Type:            nonrobust                                         \n",
      "==================================================================================\n",
      "                     coef    std err          t      P>|t|      [0.025      0.975]\n",
      "----------------------------------------------------------------------------------\n",
      "const           2842.8118    100.743     28.218      0.000    2645.076    3040.548\n",
      "Bing_Cost       1214.8499    836.735      1.452      0.147    -427.472    2857.172\n",
      "Google_Cost     1.488e+04    496.573     29.962      0.000    1.39e+04    1.59e+04\n",
      "Pinterest_Cost  6658.2423    882.764      7.542      0.000    4925.575    8390.909\n",
      "Tiktok Cost    -5007.7775    530.288     -9.444      0.000   -6048.613   -3966.942\n",
      "==============================================================================\n",
      "Omnibus:                      172.776   Durbin-Watson:                   0.262\n",
      "Prob(Omnibus):                  0.000   Jarque-Bera (JB):              341.056\n",
      "Skew:                           1.165   Prob(JB):                     8.72e-75\n",
      "Kurtosis:                       5.050   Cond. No.                         13.4\n",
      "==============================================================================\n",
      "\n",
      "Notes:\n",
      "[1] Standard Errors assume that the covariance matrix of the errors is correctly specified.\n"
     ]
    }
   ],
   "source": [
    "print(lm1.summary()) "
   ]
  },
  {
   "cell_type": "markdown",
   "id": "78d2dc2a",
   "metadata": {},
   "source": [
    "# model 3"
   ]
  },
  {
   "cell_type": "code",
   "execution_count": 51,
   "id": "cbaf04c1",
   "metadata": {
    "scrolled": true
   },
   "outputs": [],
   "source": [
    "X2=X1.drop(columns=[\"Bing_Cost\"])"
   ]
  },
  {
   "cell_type": "code",
   "execution_count": 52,
   "id": "93175cd5",
   "metadata": {},
   "outputs": [],
   "source": [
    "y2=y1"
   ]
  },
  {
   "cell_type": "code",
   "execution_count": 53,
   "id": "504b798c",
   "metadata": {},
   "outputs": [],
   "source": [
    "X_train2, X_test2, y_train2, y_test2 = train_test_split(X2, y2, test_size=0.2, random_state=0)"
   ]
  },
  {
   "cell_type": "code",
   "execution_count": 54,
   "id": "ae3983e3",
   "metadata": {},
   "outputs": [],
   "source": [
    "X2= sm.add_constant(X2)"
   ]
  },
  {
   "cell_type": "code",
   "execution_count": 55,
   "id": "c3ff5e82",
   "metadata": {},
   "outputs": [],
   "source": [
    "lm2 = sm.OLS(y2,X2).fit()"
   ]
  },
  {
   "cell_type": "code",
   "execution_count": 56,
   "id": "67ef8dd7",
   "metadata": {},
   "outputs": [
    {
     "name": "stdout",
     "output_type": "stream",
     "text": [
      "                            OLS Regression Results                            \n",
      "==============================================================================\n",
      "Dep. Variable:           burger_sales   R-squared:                       0.643\n",
      "Model:                            OLS   Adj. R-squared:                  0.642\n",
      "Method:                 Least Squares   F-statistic:                     507.6\n",
      "Date:                Mon, 03 Apr 2023   Prob (F-statistic):          1.33e-188\n",
      "Time:                        14:33:40   Log-Likelihood:                -7698.3\n",
      "No. Observations:                 850   AIC:                         1.540e+04\n",
      "Df Residuals:                     846   BIC:                         1.542e+04\n",
      "Df Model:                           3                                         \n",
      "Covariance Type:            nonrobust                                         \n",
      "==================================================================================\n",
      "                     coef    std err          t      P>|t|      [0.025      0.975]\n",
      "----------------------------------------------------------------------------------\n",
      "const           2863.9802     99.748     28.712      0.000    2668.198    3059.762\n",
      "Google_Cost     1.517e+04    452.920     33.504      0.000    1.43e+04    1.61e+04\n",
      "Pinterest_Cost  6568.0882    881.154      7.454      0.000    4838.584    8297.592\n",
      "Tiktok Cost    -4661.5984    473.971     -9.835      0.000   -5591.896   -3731.301\n",
      "==============================================================================\n",
      "Omnibus:                      170.412   Durbin-Watson:                   0.259\n",
      "Prob(Omnibus):                  0.000   Jarque-Bera (JB):              333.042\n",
      "Skew:                           1.155   Prob(JB):                     4.80e-73\n",
      "Kurtosis:                       5.017   Cond. No.                         12.7\n",
      "==============================================================================\n",
      "\n",
      "Notes:\n",
      "[1] Standard Errors assume that the covariance matrix of the errors is correctly specified.\n"
     ]
    }
   ],
   "source": [
    "print(lm2.summary())"
   ]
  },
  {
   "cell_type": "code",
   "execution_count": 57,
   "id": "5ab695f9",
   "metadata": {},
   "outputs": [
    {
     "data": {
      "text/plain": [
       "LinearRegression()"
      ]
     },
     "execution_count": 57,
     "metadata": {},
     "output_type": "execute_result"
    }
   ],
   "source": [
    "ml=LinearRegression()\n",
    "ml.fit(X_train,y_train)"
   ]
  },
  {
   "cell_type": "code",
   "execution_count": 58,
   "id": "d630d883",
   "metadata": {
    "scrolled": false
   },
   "outputs": [
    {
     "name": "stdout",
     "output_type": "stream",
     "text": [
      "[ 2878.84259487  3200.86074377  2997.26405957  2856.54805927\n",
      "  2906.82628722  3414.3377512   2914.12519215  2981.54490746\n",
      "  6175.22568589  4531.97049106  7204.10177539  3930.80869378\n",
      "  2898.7457029   5827.00665407  2889.49787501  7773.68052714\n",
      "  3152.15522049  5432.68486646  5503.70065618  5327.32423753\n",
      "  3072.08450235  3610.15621849  3018.23189065  9888.33796713\n",
      " 10678.78178969  3226.59543024  2939.74501491  5667.26381268\n",
      "  7583.3322669   6924.12821237  2916.94626488  3126.68667536\n",
      "  2879.29238348  8319.75611023  5248.45223849  2898.3137224\n",
      "  9130.79537001  5550.67752129  3051.69436494  6941.49331382\n",
      "  7728.9530584   3344.83575832  6654.03391733  3336.30091757\n",
      " 11586.74836627  2935.14411171  4784.92885684  3253.86614477\n",
      "  9289.8706817   5156.09424868  5867.56266732  8235.664903\n",
      "  7623.37429326  3031.35292242  3483.09462242 11989.02319092\n",
      " 13168.23057219  8184.31314206  7859.68921678  7073.81405751\n",
      "  3182.47249092  4493.81536063  9575.68998554  7339.17407623\n",
      "  4220.9327393   5608.17385999  8995.77001983 10142.96728412\n",
      "  2960.12976602  6280.72467168  8866.09748061  6622.29722682\n",
      "  3227.46632548  7196.01918929  3188.61468125  3562.274847\n",
      "  7547.2905354   4684.71323536  7993.43921279  9348.06443267\n",
      "  3020.80094735  5268.07628696  2885.16084041  2905.66691012\n",
      " 12968.20432445  5902.41321648  8524.97515592  5836.15508617\n",
      "  3117.91173285  8155.61191003  5550.2167899   2907.44228641\n",
      "  9429.1798331   6258.12587479  3650.78373303  4905.61783056\n",
      "  2898.23355702  2909.39498103 10403.62667398  3000.62119868\n",
      "  5103.33089275  5831.76690313  2898.43281726  8074.88853808\n",
      "  4721.75289437  7165.89207199  6470.69051845  3355.02265514\n",
      "  3486.15882775  6416.07857009  3046.82483913  3152.06357196\n",
      "  5225.35796173  3190.76149618  2959.26502805  5780.64091125\n",
      "  8336.62647324  3150.40912022  6483.06225182  2954.33077728\n",
      "  3315.81170187  2872.63584491  7300.88610343  3065.88253559\n",
      "  9692.80280185  3509.04927992  6421.86477783 10142.9898023\n",
      "  6462.80248542  7428.97020909  5154.16254921  2977.66449461\n",
      "  3042.34887128  4765.25484321  3060.14439244  5500.32589379\n",
      "  2906.30547212  5668.86905017  3011.10509229  2964.37112118\n",
      "  3202.39513061  2912.51121548  8564.59585381  5938.42140027\n",
      "  8945.99313786  7987.2739002   5407.41769935  5729.86004052\n",
      "  4544.48088211  8145.06541929  3478.81930787  6250.67589124\n",
      "  2938.29879358  7038.6599901   4460.51618197  3327.07276666\n",
      "  8652.06138066  2965.32586413  3311.7959914   3022.2159741\n",
      "  2908.7434021  10453.76992895  8534.09163052  3465.55235033\n",
      "  6122.01841978 10224.12806593  9881.38932416  2890.34386423\n",
      "  5639.82656085  2905.55695345]\n"
     ]
    }
   ],
   "source": [
    "y_pred=ml.predict(X_test)\n",
    "print(y_pred)"
   ]
  },
  {
   "cell_type": "code",
   "execution_count": 59,
   "id": "f22417ea",
   "metadata": {},
   "outputs": [
    {
     "data": {
      "text/plain": [
       "0.6291657440520344"
      ]
     },
     "execution_count": 59,
     "metadata": {},
     "output_type": "execute_result"
    }
   ],
   "source": [
    "from sklearn.metrics import r2_score\n",
    "r2_score(y_test,y_pred)"
   ]
  },
  {
   "cell_type": "code",
   "execution_count": 60,
   "id": "e1e1a7c1",
   "metadata": {},
   "outputs": [
    {
     "data": {
      "text/plain": [
       "Text(0.5, 1.0, 'Actual/predicted')"
      ]
     },
     "execution_count": 60,
     "metadata": {},
     "output_type": "execute_result"
    },
    {
     "data": {
      "image/png": "[encoded data removed]",
      "text/plain": [
       "<Figure size 1080x720 with 1 Axes>"
      ]
     },
     "metadata": {},
     "output_type": "display_data"
    }
   ],
   "source": [
    "plt.figure(figsize=(15,10))\n",
    "plt.scatter(y_test,y_pred)\n",
    "plt.xlabel('Actual')\n",
    "plt.ylabel('Predicted')\n",
    "plt.title('Actual/predicted')"
   ]
  },
  {
   "cell_type": "code",
   "execution_count": 61,
   "id": "7928f1ac",
   "metadata": {
    "scrolled": true
   },
   "outputs": [
    {
     "data": {
      "text/html": [
       "<div>\n",
       "<style scoped>\n",
       "    .dataframe tbody tr th:only-of-type {\n",
       "        vertical-align: middle;\n",
       "    }\n",
       "\n",
       "    .dataframe tbody tr th {\n",
       "        vertical-align: top;\n",
       "    }\n",
       "\n",
       "    .dataframe thead th {\n",
       "        text-align: right;\n",
       "    }\n",
       "</style>\n",
       "<table border=\"1\" class=\"dataframe\">\n",
       "  <thead>\n",
       "    <tr style=\"text-align: right;\">\n",
       "      <th></th>\n",
       "      <th>Actual_sales</th>\n",
       "      <th>Predicted_sales</th>\n",
       "      <th>Difference</th>\n",
       "    </tr>\n",
       "  </thead>\n",
       "  <tbody>\n",
       "    <tr>\n",
       "      <th>214</th>\n",
       "      <td>1860</td>\n",
       "      <td>2878.842595</td>\n",
       "      <td>-1018.842595</td>\n",
       "    </tr>\n",
       "    <tr>\n",
       "      <th>293</th>\n",
       "      <td>1960</td>\n",
       "      <td>3200.860744</td>\n",
       "      <td>-1240.860744</td>\n",
       "    </tr>\n",
       "    <tr>\n",
       "      <th>241</th>\n",
       "      <td>2180</td>\n",
       "      <td>2997.264060</td>\n",
       "      <td>-817.264060</td>\n",
       "    </tr>\n",
       "    <tr>\n",
       "      <th>193</th>\n",
       "      <td>1950</td>\n",
       "      <td>2856.548059</td>\n",
       "      <td>-906.548059</td>\n",
       "    </tr>\n",
       "    <tr>\n",
       "      <th>162</th>\n",
       "      <td>2160</td>\n",
       "      <td>2906.826287</td>\n",
       "      <td>-746.826287</td>\n",
       "    </tr>\n",
       "    <tr>\n",
       "      <th>55</th>\n",
       "      <td>2200</td>\n",
       "      <td>3414.337751</td>\n",
       "      <td>-1214.337751</td>\n",
       "    </tr>\n",
       "    <tr>\n",
       "      <th>175</th>\n",
       "      <td>3380</td>\n",
       "      <td>2914.125192</td>\n",
       "      <td>465.874808</td>\n",
       "    </tr>\n",
       "    <tr>\n",
       "      <th>247</th>\n",
       "      <td>2060</td>\n",
       "      <td>2981.544907</td>\n",
       "      <td>-921.544907</td>\n",
       "    </tr>\n",
       "    <tr>\n",
       "      <th>460</th>\n",
       "      <td>8430</td>\n",
       "      <td>6175.225686</td>\n",
       "      <td>2254.774314</td>\n",
       "    </tr>\n",
       "    <tr>\n",
       "      <th>392</th>\n",
       "      <td>9160</td>\n",
       "      <td>4531.970491</td>\n",
       "      <td>4628.029509</td>\n",
       "    </tr>\n",
       "    <tr>\n",
       "      <th>548</th>\n",
       "      <td>7140</td>\n",
       "      <td>7204.101775</td>\n",
       "      <td>-64.101775</td>\n",
       "    </tr>\n",
       "    <tr>\n",
       "      <th>725</th>\n",
       "      <td>5470</td>\n",
       "      <td>3930.808694</td>\n",
       "      <td>1539.191306</td>\n",
       "    </tr>\n",
       "    <tr>\n",
       "      <th>142</th>\n",
       "      <td>2070</td>\n",
       "      <td>2898.745703</td>\n",
       "      <td>-828.745703</td>\n",
       "    </tr>\n",
       "    <tr>\n",
       "      <th>495</th>\n",
       "      <td>8120</td>\n",
       "      <td>5827.006654</td>\n",
       "      <td>2292.993346</td>\n",
       "    </tr>\n",
       "    <tr>\n",
       "      <th>101</th>\n",
       "      <td>1470</td>\n",
       "      <td>2889.497875</td>\n",
       "      <td>-1419.497875</td>\n",
       "    </tr>\n",
       "    <tr>\n",
       "      <th>678</th>\n",
       "      <td>6560</td>\n",
       "      <td>7773.680527</td>\n",
       "      <td>-1213.680527</td>\n",
       "    </tr>\n",
       "    <tr>\n",
       "      <th>361</th>\n",
       "      <td>1850</td>\n",
       "      <td>3152.155220</td>\n",
       "      <td>-1302.155220</td>\n",
       "    </tr>\n",
       "    <tr>\n",
       "      <th>670</th>\n",
       "      <td>5490</td>\n",
       "      <td>5432.684866</td>\n",
       "      <td>57.315134</td>\n",
       "    </tr>\n",
       "    <tr>\n",
       "      <th>424</th>\n",
       "      <td>8370</td>\n",
       "      <td>5503.700656</td>\n",
       "      <td>2866.299344</td>\n",
       "    </tr>\n",
       "    <tr>\n",
       "      <th>501</th>\n",
       "      <td>5910</td>\n",
       "      <td>5327.324238</td>\n",
       "      <td>582.675762</td>\n",
       "    </tr>\n",
       "  </tbody>\n",
       "</table>\n",
       "</div>"
      ],
      "text/plain": [
       "     Actual_sales  Predicted_sales   Difference\n",
       "214          1860      2878.842595 -1018.842595\n",
       "293          1960      3200.860744 -1240.860744\n",
       "241          2180      2997.264060  -817.264060\n",
       "193          1950      2856.548059  -906.548059\n",
       "162          2160      2906.826287  -746.826287\n",
       "55           2200      3414.337751 -1214.337751\n",
       "175          3380      2914.125192   465.874808\n",
       "247          2060      2981.544907  -921.544907\n",
       "460          8430      6175.225686  2254.774314\n",
       "392          9160      4531.970491  4628.029509\n",
       "548          7140      7204.101775   -64.101775\n",
       "725          5470      3930.808694  1539.191306\n",
       "142          2070      2898.745703  -828.745703\n",
       "495          8120      5827.006654  2292.993346\n",
       "101          1470      2889.497875 -1419.497875\n",
       "678          6560      7773.680527 -1213.680527\n",
       "361          1850      3152.155220 -1302.155220\n",
       "670          5490      5432.684866    57.315134\n",
       "424          8370      5503.700656  2866.299344\n",
       "501          5910      5327.324238   582.675762"
      ]
     },
     "execution_count": 61,
     "metadata": {},
     "output_type": "execute_result"
    }
   ],
   "source": [
    "pred_y_df1=pd.DataFrame({'Actual_sales':y_test,'Predicted_sales':y_pred,'Difference':y_test-y_pred})\n",
    "pred_y_df1[0:20]"
   ]
  },
  {
   "cell_type": "code",
   "execution_count": 68,
   "id": "3aa6fa52",
   "metadata": {},
   "outputs": [],
   "source": [
    "pred_y_df1['Predicted_sales'] = pred_y_df1['Predicted_sales'].round()"
   ]
  },
  {
   "cell_type": "code",
   "execution_count": 63,
   "id": "4e4fa48b",
   "metadata": {},
   "outputs": [
    {
     "data": {
      "text/html": [
       "<div>\n",
       "<style scoped>\n",
       "    .dataframe tbody tr th:only-of-type {\n",
       "        vertical-align: middle;\n",
       "    }\n",
       "\n",
       "    .dataframe tbody tr th {\n",
       "        vertical-align: top;\n",
       "    }\n",
       "\n",
       "    .dataframe thead th {\n",
       "        text-align: right;\n",
       "    }\n",
       "</style>\n",
       "<table border=\"1\" class=\"dataframe\">\n",
       "  <thead>\n",
       "    <tr style=\"text-align: right;\">\n",
       "      <th></th>\n",
       "      <th>Actual_sales</th>\n",
       "      <th>Predicted_sales</th>\n",
       "      <th>Difference</th>\n",
       "    </tr>\n",
       "  </thead>\n",
       "  <tbody>\n",
       "    <tr>\n",
       "      <th>214</th>\n",
       "      <td>1860</td>\n",
       "      <td>2879.0</td>\n",
       "      <td>-1018.842595</td>\n",
       "    </tr>\n",
       "    <tr>\n",
       "      <th>293</th>\n",
       "      <td>1960</td>\n",
       "      <td>3201.0</td>\n",
       "      <td>-1240.860744</td>\n",
       "    </tr>\n",
       "    <tr>\n",
       "      <th>241</th>\n",
       "      <td>2180</td>\n",
       "      <td>2997.0</td>\n",
       "      <td>-817.264060</td>\n",
       "    </tr>\n",
       "    <tr>\n",
       "      <th>193</th>\n",
       "      <td>1950</td>\n",
       "      <td>2857.0</td>\n",
       "      <td>-906.548059</td>\n",
       "    </tr>\n",
       "    <tr>\n",
       "      <th>162</th>\n",
       "      <td>2160</td>\n",
       "      <td>2907.0</td>\n",
       "      <td>-746.826287</td>\n",
       "    </tr>\n",
       "    <tr>\n",
       "      <th>...</th>\n",
       "      <td>...</td>\n",
       "      <td>...</td>\n",
       "      <td>...</td>\n",
       "    </tr>\n",
       "    <tr>\n",
       "      <th>608</th>\n",
       "      <td>9590</td>\n",
       "      <td>10224.0</td>\n",
       "      <td>-634.128066</td>\n",
       "    </tr>\n",
       "    <tr>\n",
       "      <th>618</th>\n",
       "      <td>8840</td>\n",
       "      <td>9881.0</td>\n",
       "      <td>-1041.389324</td>\n",
       "    </tr>\n",
       "    <tr>\n",
       "      <th>122</th>\n",
       "      <td>1550</td>\n",
       "      <td>2890.0</td>\n",
       "      <td>-1340.343864</td>\n",
       "    </tr>\n",
       "    <tr>\n",
       "      <th>648</th>\n",
       "      <td>4790</td>\n",
       "      <td>5640.0</td>\n",
       "      <td>-849.826561</td>\n",
       "    </tr>\n",
       "    <tr>\n",
       "      <th>167</th>\n",
       "      <td>2700</td>\n",
       "      <td>2906.0</td>\n",
       "      <td>-205.556953</td>\n",
       "    </tr>\n",
       "  </tbody>\n",
       "</table>\n",
       "<p>170 rows × 3 columns</p>\n",
       "</div>"
      ],
      "text/plain": [
       "     Actual_sales  Predicted_sales   Difference\n",
       "214          1860           2879.0 -1018.842595\n",
       "293          1960           3201.0 -1240.860744\n",
       "241          2180           2997.0  -817.264060\n",
       "193          1950           2857.0  -906.548059\n",
       "162          2160           2907.0  -746.826287\n",
       "..            ...              ...          ...\n",
       "608          9590          10224.0  -634.128066\n",
       "618          8840           9881.0 -1041.389324\n",
       "122          1550           2890.0 -1340.343864\n",
       "648          4790           5640.0  -849.826561\n",
       "167          2700           2906.0  -205.556953\n",
       "\n",
       "[170 rows x 3 columns]"
      ]
     },
     "execution_count": 63,
     "metadata": {},
     "output_type": "execute_result"
    }
   ],
   "source": [
    "pred_y_df1"
   ]
  },
  {
   "cell_type": "code",
   "execution_count": null,
   "id": "4d6eab7a",
   "metadata": {},
   "outputs": [],
   "source": []
  }
 ],
 "metadata": {
  "kernelspec": {
   "display_name": "Python 3 (ipykernel)",
   "language": "python",
   "name": "python3"
  },
  "language_info": {
   "codemirror_mode": {
    "name": "ipython",
    "version": 3
   },
   "file_extension": ".py",
   "mimetype": "text/x-python",
   "name": "python",
   "nbconvert_exporter": "python",
   "pygments_lexer": "ipython3",
   "version": "3.9.12"
  }
 },
 "nbformat": 4,
 "nbformat_minor": 5
}
